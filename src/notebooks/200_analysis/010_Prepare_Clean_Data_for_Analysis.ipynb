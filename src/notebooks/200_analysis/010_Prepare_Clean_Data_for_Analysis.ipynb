{
 "cells": [
  {
   "cell_type": "code",
   "execution_count": 1,
   "id": "5a4d4270",
   "metadata": {},
   "outputs": [
    {
     "data": {
      "text/plain": [
       "True"
      ]
     },
     "execution_count": 1,
     "metadata": {},
     "output_type": "execute_result"
    }
   ],
   "source": [
    "import os\n",
    "import re\n",
    "from pathlib import Path\n",
    "\n",
    "import pandas as pd\n",
    "from census import Census\n",
    "from dotenv import load_dotenv\n",
    "\n",
    "from thompson import unvaccinated\n",
    "\n",
    "load_dotenv()"
   ]
  },
  {
   "cell_type": "code",
   "execution_count": 2,
   "id": "8e68dcae",
   "metadata": {},
   "outputs": [],
   "source": [
    "# Directory containing unvaccinated people data\n",
    "\n",
    "DATA_DIR = Path.cwd() / \"..\" / \"..\" / \"..\" / \"data\" / \"unvax_data\"\n",
    "DEMO_DATA_DIR = Path.cwd() / \"..\" / \"..\" / \"..\" / \"data\" / \"demographics\"\n",
    "\n",
    "ORIGINAL_FILES = [\n",
    "    DATA_DIR / \"input\" / \"unvax_contact_list_20210521_uniq_id.csv\",\n",
    "    DATA_DIR / \"input\" / \"unvax_contact_list_20210601_uniq_id.csv\",\n",
    "    DATA_DIR / \"input\" / \"unvax_contact_list_20210608_uniq_id.csv\",\n",
    "    DATA_DIR / \"input\" / \"unvax_contact_list_20210622_uniq_id_updated.csv\",\n",
    "]"
   ]
  },
  {
   "cell_type": "code",
   "execution_count": 3,
   "id": "3af62479",
   "metadata": {},
   "outputs": [
    {
     "data": {
      "text/plain": [
       "1       453675\n",
       "2        54627\n",
       "3         8669\n",
       "4         1624\n",
       "5          356\n",
       "         ...  \n",
       "1809         1\n",
       "43           1\n",
       "26           1\n",
       "34           1\n",
       "230          1\n",
       "Name: unique_id, Length: 68, dtype: int64"
      ]
     },
     "execution_count": 3,
     "metadata": {},
     "output_type": "execute_result"
    }
   ],
   "source": [
    "# Read in pure vaccination data\n",
    "vax_df = pd.read_csv(DATA_DIR / \"input\" / \"final_vax_list.csv\")\n",
    "\n",
    "# Note that this is _not_ unique by unique id\n",
    "vax_df[\"unique_id\"].value_counts().value_counts()"
   ]
  },
  {
   "cell_type": "code",
   "execution_count": 4,
   "id": "88077a2e",
   "metadata": {},
   "outputs": [
    {
     "data": {
      "text/plain": [
       "2021-04-10    12563\n",
       "2021-04-20    11180\n",
       "2021-04-17    10182\n",
       "2021-04-21     9866\n",
       "2021-04-07     9328\n",
       "              ...  \n",
       "2021-06-20      220\n",
       "2020-12-14      115\n",
       "2021-01-01       81\n",
       "2021-06-22        5\n",
       "2020-12-25        1\n",
       "Name: admin_date, Length: 191, dtype: int64"
      ]
     },
     "execution_count": 4,
     "metadata": {},
     "output_type": "execute_result"
    }
   ],
   "source": [
    "# Fix types and verify that the file has the same\n",
    "# orders of magnitude as the public file\n",
    "vax_df[\"admin_date\"] = pd.to_datetime(vax_df[\"admin_date\"])\n",
    "vax_df[\"admin_date\"].value_counts()"
   ]
  },
  {
   "cell_type": "code",
   "execution_count": 5,
   "id": "2a92aef9",
   "metadata": {},
   "outputs": [
    {
     "data": {
      "text/plain": [
       "<AxesSubplot:xlabel='admin_date'>"
      ]
     },
     "execution_count": 5,
     "metadata": {},
     "output_type": "execute_result"
    },
    {
     "data": {
      "image/png": "[encoded data removed]",
      "text/plain": [
       "<Figure size 432x288 with 1 Axes>"
      ]
     },
     "metadata": {
      "needs_background": "light"
     },
     "output_type": "display_data"
    }
   ],
   "source": [
    "# Vaccinations by day\n",
    "vax_df[\"admin_date\"] = pd.to_datetime(vax_df[\"admin_date\"])\n",
    "vax_df.groupby(\"admin_date\").size().sort_index().plot()"
   ]
  },
  {
   "cell_type": "code",
   "execution_count": 6,
   "id": "1a1a4134",
   "metadata": {},
   "outputs": [],
   "source": [
    "# Read data\n",
    "dfs = []\n",
    "for data_file in ORIGINAL_FILES:\n",
    "    df = unvaccinated.read_unvaccinated_csv(data_file)\n",
    "    the_date = pd.to_datetime(\n",
    "        re.search(r\"(\\d{8})\", data_file.stem).groups()[0],\n",
    "        format=\"%Y%m%d\",\n",
    "    )\n",
    "\n",
    "    df[\"record_date\"] = the_date\n",
    "    dfs.append(df)\n",
    "\n",
    "df = pd.concat(dfs)"
   ]
  },
  {
   "cell_type": "code",
   "execution_count": 7,
   "id": "fc44fb6c",
   "metadata": {},
   "outputs": [
    {
     "data": {
      "text/plain": [
       "(2021-05-21 00:00:00, 2021-06-01 00:00:00, 2021-06-08 00:00:00, 2021-06-22 00:00:00)    129953\n",
       "(2021-05-21 00:00:00, 2021-06-01 00:00:00, 2021-06-08 00:00:00)                           9006\n",
       "(2021-05-21 00:00:00,)                                                                    7210\n",
       "(2021-06-22 00:00:00,)                                                                    6667\n",
       "(2021-05-21 00:00:00, 2021-06-08 00:00:00, 2021-06-22 00:00:00)                           5784\n",
       "(2021-05-21 00:00:00, 2021-06-01 00:00:00)                                                5209\n",
       "(2021-05-21 00:00:00, 2021-06-22 00:00:00)                                                3428\n",
       "(2021-06-08 00:00:00, 2021-06-22 00:00:00)                                                2720\n",
       "(2021-06-01 00:00:00, 2021-06-08 00:00:00, 2021-06-22 00:00:00)                           1852\n",
       "(2021-05-21 00:00:00, 2021-06-08 00:00:00)                                                 985\n",
       "(2021-06-08 00:00:00,)                                                                     977\n",
       "(2021-05-21 00:00:00, 2021-06-01 00:00:00, 2021-06-22 00:00:00)                            929\n",
       "(2021-06-01 00:00:00,)                                                                     612\n",
       "(2021-06-01 00:00:00, 2021-06-08 00:00:00)                                                 519\n",
       "(2021-06-01 00:00:00, 2021-06-22 00:00:00)                                                 487\n",
       "Name: record_date, dtype: int64"
      ]
     },
     "execution_count": 7,
     "metadata": {},
     "output_type": "execute_result"
    }
   ],
   "source": [
    "# There seems to be some volatility in the process that Zayid runs to\n",
    "# determine who hasn't yet been vaccinated from the testing list. Note\n",
    "# that below some people appear on the 5/21 list and not again until the\n",
    "# 6/22 list. This _shouldn't_ be possible but here it is.\n",
    "df.sort_values(by=[\"unique_id\", \"record_date\"]).groupby(\"unique_id\")[\n",
    "    \"record_date\"\n",
    "].apply(lambda x: tuple(sorted(frozenset(x)))).value_counts()"
   ]
  },
  {
   "cell_type": "code",
   "execution_count": 8,
   "id": "c51b7724",
   "metadata": {},
   "outputs": [],
   "source": [
    "date_df = df.groupby([\"unique_id\"]).agg(\n",
    "    {\"record_date\": [(\"first_record_date\", \"min\"), (\"last_record_date\", \"max\")]}\n",
    ")\n",
    "\n",
    "date_df.columns = date_df.columns.droplevel(0)"
   ]
  },
  {
   "cell_type": "code",
   "execution_count": 9,
   "id": "232161b1",
   "metadata": {},
   "outputs": [],
   "source": [
    "old_df = pd.concat(\n",
    "    [\n",
    "        pd.read_csv(DATA_DIR / \"output\" / \"full-2021-05-25-for-week.csv\"),\n",
    "        pd.read_csv(DATA_DIR / \"output\" / \"full-2021-06-02-for-week.csv\"),\n",
    "        pd.read_csv(DATA_DIR / \"output\" / \"full-2021-06-09-for-week.csv\"),\n",
    "    ]\n",
    ").rename(\n",
    "    columns={\n",
    "        \"ContactId\": \"unique_id\",\n",
    "        \"Groups\": \"assigned_message\",\n",
    "        \"Tags\": \"message_language\",\n",
    "    }\n",
    ")[\n",
    "    [\n",
    "        \"unique_id\",\n",
    "        \"assigned_message\",\n",
    "        \"message_language\",\n",
    "        \"date_sent\",\n",
    "        \"is_chosen_from_uniform\",\n",
    "    ]\n",
    "]\n",
    "\n",
    "old_df[\"date_sent\"] = pd.to_datetime(old_df[\"date_sent\"])"
   ]
  },
  {
   "cell_type": "code",
   "execution_count": 10,
   "id": "9f458766",
   "metadata": {},
   "outputs": [],
   "source": [
    "# Remove the 249 Spanish language messages which were _assigned but not_ sent\n",
    "# during the week of 2021-06-01\n",
    "old_df = old_df[\n",
    "    ~(\n",
    "        (old_df[\"date_sent\"] >= \"2021-06-02\")\n",
    "        & (old_df[\"date_sent\"] <= \"2021-06-08\")\n",
    "        & (old_df[\"message_language\"] == \"Spanish\")\n",
    "    )\n",
    "].copy()"
   ]
  },
  {
   "cell_type": "code",
   "execution_count": 11,
   "id": "08475d77",
   "metadata": {},
   "outputs": [],
   "source": [
    "# The process for merging vaccine information and our list:\n",
    "# 1. Look at all records that were to receive a text message\n",
    "# 2. Merge in all vaccination records\n",
    "# 3. Verify that there is one message per unique_id\n",
    "# 4. Create two flags:\n",
    "#    * There is an administration after the text was sent and before 6/22\n",
    "#    * There is an administration w/i one week of the date the message was\n",
    "#      to be sent\n",
    "merged_df = old_df.merge(vax_df, on=\"unique_id\", how=\"left\")"
   ]
  },
  {
   "cell_type": "code",
   "execution_count": 12,
   "id": "e3749535",
   "metadata": {},
   "outputs": [
    {
     "data": {
      "text/plain": [
       "1    158103\n",
       "Name: assigned_message, dtype: int64"
      ]
     },
     "execution_count": 12,
     "metadata": {},
     "output_type": "execute_result"
    }
   ],
   "source": [
    "# Verify that there is one message per unique_id\n",
    "merged_df.groupby(\"unique_id\")[\"assigned_message\"].nunique().value_counts()"
   ]
  },
  {
   "cell_type": "code",
   "execution_count": 13,
   "id": "73c5650e",
   "metadata": {},
   "outputs": [],
   "source": [
    "# Create the flags\n",
    "merged_df[\"is_vax_after_send\"] = merged_df[\"admin_date\"].notna() & (\n",
    "    merged_df[\"admin_date\"] >= merged_df[\"date_sent\"]\n",
    ")\n",
    "\n",
    "merged_df[\"is_within_one_week_after_send\"] = merged_df[\"admin_date\"].notna() & (\n",
    "    (merged_df[\"admin_date\"] >= merged_df[\"date_sent\"])\n",
    "    & (merged_df[\"admin_date\"] < merged_df[\"date_sent\"] + pd.Timedelta(days=7))\n",
    ")"
   ]
  },
  {
   "cell_type": "code",
   "execution_count": 14,
   "id": "803a40ec",
   "metadata": {},
   "outputs": [],
   "source": [
    "anytime_df = (\n",
    "    merged_df.groupby(\n",
    "        [\n",
    "            \"unique_id\",\n",
    "            \"assigned_message\",\n",
    "            \"message_language\",\n",
    "            \"date_sent\",\n",
    "            \"is_chosen_from_uniform\",\n",
    "        ]\n",
    "    )[\"is_vax_after_send\"]\n",
    "    .any()\n",
    "    .reset_index()\n",
    "    .groupby(\n",
    "        [\n",
    "            \"assigned_message\",\n",
    "            \"message_language\",\n",
    "            \"date_sent\",\n",
    "            \"is_chosen_from_uniform\",\n",
    "            \"is_vax_after_send\",\n",
    "        ]\n",
    "    )\n",
    "    .size()\n",
    "    .reset_index(name=\"count\")\n",
    ")\n",
    "\n",
    "anytime_df.to_csv(\n",
    "    DATA_DIR / \"output\" / \"counts_from_vax_list_anytime_after_send.csv\", index=False\n",
    ")\n",
    "\n",
    "within_df = (\n",
    "    merged_df.groupby(\n",
    "        [\n",
    "            \"unique_id\",\n",
    "            \"assigned_message\",\n",
    "            \"message_language\",\n",
    "            \"date_sent\",\n",
    "            \"is_chosen_from_uniform\",\n",
    "        ]\n",
    "    )[\"is_within_one_week_after_send\"]\n",
    "    .any()\n",
    "    .reset_index()\n",
    "    .groupby(\n",
    "        [\n",
    "            \"assigned_message\",\n",
    "            \"message_language\",\n",
    "            \"date_sent\",\n",
    "            \"is_chosen_from_uniform\",\n",
    "            \"is_within_one_week_after_send\",\n",
    "        ]\n",
    "    )\n",
    "    .size()\n",
    "    .reset_index(name=\"count\")\n",
    ")\n",
    "\n",
    "within_df.to_csv(\n",
    "    DATA_DIR / \"output\" / \"counts_from_vax_list_within_one_week_after_send.csv\",\n",
    "    index=False,\n",
    ")"
   ]
  },
  {
   "cell_type": "code",
   "execution_count": 15,
   "id": "24e3f4f9",
   "metadata": {},
   "outputs": [
    {
     "data": {
      "text/plain": [
       "False    283\n",
       "True     199\n",
       "Name: is_within_one_week_after_send, dtype: int64"
      ]
     },
     "execution_count": 15,
     "metadata": {},
     "output_type": "execute_result"
    }
   ],
   "source": [
    "within_df[\"is_within_one_week_after_send\"].value_counts()"
   ]
  },
  {
   "cell_type": "code",
   "execution_count": 16,
   "id": "827b3679",
   "metadata": {},
   "outputs": [
    {
     "data": {
      "text/plain": [
       "False    282\n",
       "True     210\n",
       "Name: is_vax_after_send, dtype: int64"
      ]
     },
     "execution_count": 16,
     "metadata": {},
     "output_type": "execute_result"
    }
   ],
   "source": [
    "anytime_df[\"is_vax_after_send\"].value_counts()"
   ]
  },
  {
   "cell_type": "markdown",
   "id": "bc6cb6b2",
   "metadata": {},
   "source": [
    "### The old methogology using only RIDOH overall files"
   ]
  },
  {
   "cell_type": "code",
   "execution_count": 17,
   "id": "65f9c13b",
   "metadata": {},
   "outputs": [],
   "source": [
    "# Old methodology\n",
    "final_df = date_df.merge(old_df, on=\"unique_id\", how=\"left\")\n",
    "final_df[\"did_not_get_vaccinated\"] = final_df[\"last_record_date\"] == \"2021-06-22\"\n",
    "final_df[\"eligible_for_text\"] = final_df[\"first_record_date\"] < \"2021-06-22\""
   ]
  },
  {
   "cell_type": "code",
   "execution_count": 18,
   "id": "d26d6177",
   "metadata": {},
   "outputs": [
    {
     "data": {
      "text/plain": [
       "0.9343987115652894"
      ]
     },
     "execution_count": 18,
     "metadata": {},
     "output_type": "execute_result"
    }
   ],
   "source": [
    "# Note that some people can not be assigned a message could be eligible for a text\n",
    "# because they appeared on the list in (say) Week 1 but not in Week 2\n",
    "(final_df[\"assigned_message\"].notna() == final_df[\"eligible_for_text\"]).mean()"
   ]
  },
  {
   "cell_type": "code",
   "execution_count": 19,
   "id": "8008c487",
   "metadata": {},
   "outputs": [],
   "source": [
    "for_grouping = final_df.drop(columns=\"unique_id\")\n",
    "for_grouping.groupby(list(for_grouping), dropna=False).size().reset_index(\n",
    "    name=\"count\"\n",
    ").to_csv(DATA_DIR / \"output\" / \"final_counts_by_group.csv\", index=False)"
   ]
  },
  {
   "cell_type": "code",
   "execution_count": 20,
   "id": "58bcb5cf",
   "metadata": {},
   "outputs": [
    {
     "data": {
      "text/plain": [
       "True"
      ]
     },
     "execution_count": 20,
     "metadata": {},
     "output_type": "execute_result"
    }
   ],
   "source": [
    "# Just double check that assigned message and date sent both come from the same list\n",
    "(for_grouping[\"assigned_message\"].notna() == for_grouping[\"date_sent\"].notna()).all()"
   ]
  },
  {
   "cell_type": "code",
   "execution_count": 21,
   "id": "624fb916",
   "metadata": {},
   "outputs": [
    {
     "data": {
      "text/plain": [
       "assigned_message\n",
       "message_0    0.110819\n",
       "message_1    0.108055\n",
       "message_2    0.114463\n",
       "message_3    0.111553\n",
       "message_4    0.110877\n",
       "message_5    0.115509\n",
       "message_6    0.086640\n",
       "message_7    0.110081\n",
       "message_8    0.110628\n",
       "Name: did_not_get_vaccinated, dtype: float64"
      ]
     },
     "execution_count": 21,
     "metadata": {},
     "output_type": "execute_result"
    }
   ],
   "source": [
    "# Toplines?\n",
    "1 - for_grouping.groupby([\"assigned_message\"]).did_not_get_vaccinated.mean()"
   ]
  },
  {
   "cell_type": "code",
   "execution_count": 22,
   "id": "606c7dd5",
   "metadata": {},
   "outputs": [
    {
     "data": {
      "text/plain": [
       "assigned_message\n",
       "message_0    0.140389\n",
       "message_1    0.147818\n",
       "message_2    0.156275\n",
       "message_3    0.145424\n",
       "message_4    0.150553\n",
       "message_5    0.149378\n",
       "message_6    0.116449\n",
       "message_7    0.145387\n",
       "message_8    0.152748\n",
       "Name: did_not_get_vaccinated, dtype: float64"
      ]
     },
     "execution_count": 22,
     "metadata": {},
     "output_type": "execute_result"
    }
   ],
   "source": [
    "# What about positive versus negative tests\n",
    "foo = df.sort_values(by=[\"unique_id\", \"record_date\"]).drop_duplicates(\"unique_id\")\n",
    "foo = final_df.merge(foo[[\"unique_id\", \"test_result\"]], on=\"unique_id\")\n",
    "\n",
    "(\n",
    "    1\n",
    "    - foo[foo[\"test_result\"] == \"positive\"]\n",
    "    .groupby(\"assigned_message\")[\"did_not_get_vaccinated\"]\n",
    "    .mean()\n",
    ")"
   ]
  },
  {
   "cell_type": "code",
   "execution_count": 23,
   "id": "54e93b8c",
   "metadata": {},
   "outputs": [
    {
     "data": {
      "text/plain": [
       "assigned_message\n",
       "message_0    0.103875\n",
       "message_1    0.098748\n",
       "message_2    0.104680\n",
       "message_3    0.103594\n",
       "message_4    0.101549\n",
       "message_5    0.107930\n",
       "message_6    0.079701\n",
       "message_7    0.101930\n",
       "message_8    0.100779\n",
       "Name: did_not_get_vaccinated, dtype: float64"
      ]
     },
     "execution_count": 23,
     "metadata": {},
     "output_type": "execute_result"
    }
   ],
   "source": [
    "(\n",
    "    1\n",
    "    - foo[foo[\"test_result\"] == \"negative\"]\n",
    "    .groupby(\"assigned_message\")[\"did_not_get_vaccinated\"]\n",
    "    .mean()\n",
    ")"
   ]
  },
  {
   "cell_type": "code",
   "execution_count": 24,
   "id": "4ba68bed",
   "metadata": {},
   "outputs": [
    {
     "data": {
      "text/plain": [
       "date_sent\n",
       "2021-05-25    1.000000\n",
       "2021-05-26    1.000000\n",
       "2021-05-27    1.000000\n",
       "2021-05-28    1.000000\n",
       "2021-06-02    0.251102\n",
       "2021-06-03    0.248331\n",
       "2021-06-04    0.255284\n",
       "2021-06-07    0.252959\n",
       "2021-06-08    0.245559\n",
       "2021-06-09    0.334460\n",
       "2021-06-10    0.330123\n",
       "2021-06-11    0.330251\n",
       "2021-06-14    0.330378\n",
       "2021-06-15    0.327400\n",
       "Name: is_chosen_from_uniform, dtype: float64"
      ]
     },
     "execution_count": 24,
     "metadata": {},
     "output_type": "execute_result"
    }
   ],
   "source": [
    "# Check is_chosen_from_uniform numbers\n",
    "# Bad issues with missing boolean types :-/\n",
    "tmp_df = for_grouping[for_grouping[\"is_chosen_from_uniform\"].notna()].copy()\n",
    "\n",
    "tmp_df[\"is_chosen_from_uniform\"] = tmp_df[\"is_chosen_from_uniform\"].astype(bool)\n",
    "tmp_df.groupby(\"date_sent\")[\"is_chosen_from_uniform\"].mean()"
   ]
  },
  {
   "cell_type": "code",
   "execution_count": null,
   "id": "600257b3",
   "metadata": {},
   "outputs": [],
   "source": []
  },
  {
   "cell_type": "markdown",
   "id": "7a13f6a0",
   "metadata": {},
   "source": [
    "### Add back in ZIP code data for demographics"
   ]
  },
  {
   "cell_type": "code",
   "execution_count": 25,
   "id": "94e4d4c7",
   "metadata": {},
   "outputs": [],
   "source": [
    "with_zcta_df = (\n",
    "    merged_df.groupby(\n",
    "        [\n",
    "            \"unique_id\",\n",
    "            \"assigned_message\",\n",
    "            \"message_language\",\n",
    "            \"date_sent\",\n",
    "            \"is_chosen_from_uniform\",\n",
    "        ]\n",
    "    )[[\"is_within_one_week_after_send\", \"is_vax_after_send\"]]\n",
    "    .any()\n",
    "    .reset_index()\n",
    "    .merge(\n",
    "        df.sort_values(by=\"record_date\").drop_duplicates(\"unique_id\")[\n",
    "            [\"unique_id\", \"zcta\"]\n",
    "        ],\n",
    "        on=\"unique_id\",\n",
    "        how=\"left\",\n",
    "    )\n",
    ")\n",
    "\n",
    "with_zcta_df.drop(columns=[\"unique_id\"]).to_csv(\n",
    "    DATA_DIR / \"output\" / \"final_data_one_line_per_individual.csv\", index=False\n",
    ")"
   ]
  },
  {
   "cell_type": "markdown",
   "id": "c37cf980",
   "metadata": {},
   "source": [
    "### Make sure all \"New Methodology\" data frames have the same counts"
   ]
  },
  {
   "cell_type": "code",
   "execution_count": 26,
   "id": "68c55923",
   "metadata": {},
   "outputs": [],
   "source": [
    "a_df = pd.read_csv(DATA_DIR / \"output\" / \"final_data_one_line_per_individual.csv\")"
   ]
  },
  {
   "cell_type": "code",
   "execution_count": 27,
   "id": "b036edef",
   "metadata": {},
   "outputs": [],
   "source": [
    "b_df = pd.read_csv(DATA_DIR / \"output\" / \"counts_from_vax_list_within_one_week_after_send.csv\")"
   ]
  },
  {
   "cell_type": "code",
   "execution_count": 28,
   "id": "1d017d3c",
   "metadata": {},
   "outputs": [],
   "source": [
    "assert (a_df.groupby([\"assigned_message\", \"date_sent\"]).size() == b_df.groupby(\n",
    "    [\"assigned_message\", \"date_sent\"]\n",
    ")[\"count\"].sum()).all()"
   ]
  },
  {
   "cell_type": "code",
   "execution_count": 29,
   "id": "42ccce38",
   "metadata": {},
   "outputs": [],
   "source": [
    "c_df = pd.read_csv(DATA_DIR / \"output\" / \"counts_from_vax_list_anytime_after_send.csv\")"
   ]
  },
  {
   "cell_type": "code",
   "execution_count": 30,
   "id": "ee85ffdc",
   "metadata": {},
   "outputs": [],
   "source": [
    "assert (a_df.groupby([\"assigned_message\", \"date_sent\"]).size() == c_df.groupby(\n",
    "    [\"assigned_message\", \"date_sent\"]\n",
    ")[\"count\"].sum()).all()"
   ]
  },
  {
   "cell_type": "code",
   "execution_count": null,
   "id": "d733bab8",
   "metadata": {},
   "outputs": [],
   "source": []
  }
 ],
 "metadata": {
  "kernelspec": {
   "display_name": "Python 3",
   "language": "python",
   "name": "python3"
  },
  "language_info": {
   "codemirror_mode": {
    "name": "ipython",
    "version": 3
   },
   "file_extension": ".py",
   "mimetype": "text/x-python",
   "name": "python",
   "nbconvert_exporter": "python",
   "pygments_lexer": "ipython3",
   "version": "3.8.6"
  }
 },
 "nbformat": 4,
 "nbformat_minor": 5
}
