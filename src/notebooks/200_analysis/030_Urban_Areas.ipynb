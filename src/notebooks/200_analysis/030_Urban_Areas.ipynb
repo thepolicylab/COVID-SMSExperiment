{
 "cells": [
  {
   "cell_type": "code",
   "execution_count": 1,
   "id": "e33a413c",
   "metadata": {},
   "outputs": [],
   "source": [
    "import lzma\n",
    "import shutil\n",
    "import tempfile\n",
    "from pathlib import Path\n",
    "\n",
    "import geopandas as gpd\n",
    "import pandas as pd"
   ]
  },
  {
   "cell_type": "code",
   "execution_count": 2,
   "id": "b165651b",
   "metadata": {},
   "outputs": [],
   "source": [
    "INPUT_DATA_DIR = Path.cwd() / \"..\" / \"..\" / \"..\" / \"data\" / \"shapefiles\" / \"input\"\n",
    "OUTPUT_DATA_DIR = Path.cwd() / \"..\" / \"..\" / \"..\" / \"data\" / \"shapefiles\" / \"output\"\n",
    "\n",
    "INPUT_DATA_DIR.mkdir(parents=True, exist_ok=True)\n",
    "OUTPUT_DATA_DIR.mkdir(parents=True, exist_ok=True)\n",
    "\n",
    "RI_EPSG = 3438  # State plane; ft"
   ]
  },
  {
   "cell_type": "code",
   "execution_count": 3,
   "id": "cedf1596",
   "metadata": {},
   "outputs": [],
   "source": [
    "# Data from rigis.org\n",
    "# https://www.rigis.org/datasets/urban-areas/explore\n",
    "# https://www.rigis.org/datasets/municipalities-1997/explore\n",
    "\n",
    "with tempfile.TemporaryDirectory() as tmpdir:\n",
    "    tmpdir = Path(tmpdir)\n",
    "    with lzma.open(INPUT_DATA_DIR / \"Urban_Areas.geojson.xz\", 'rt') as infile:\n",
    "        with open(tmpdir / \"Urban_Areas.geojson\", 'wt') as outfile:\n",
    "            shutil.copyfileobj(infile, outfile)\n",
    "    urban_gdf = gpd.read_file(tmpdir / \"Urban_Areas.geojson\").to_crs(epsg=RI_EPSG)\n",
    "    \n",
    "    with lzma.open(INPUT_DATA_DIR / \"Municipalities_(1997).geojson.xz\", 'rt') as infile:\n",
    "        with open(tmpdir / \"Municipalities_(1997).geojson\", 'wt') as outfile:\n",
    "            shutil.copyfileobj(infile, outfile)\n",
    "    \n",
    "    muni_gdf = gpd.read_file(tmpdir / \"Municipalities_(1997).geojson\").to_crs(epsg=RI_EPSG)"
   ]
  },
  {
   "cell_type": "code",
   "execution_count": 4,
   "id": "98767f7d",
   "metadata": {},
   "outputs": [],
   "source": [
    "urban_gdf = urban_gdf.dissolve()\n",
    "muni_gdf = muni_gdf.dissolve(['NAME', 'COUNTY']).reset_index()"
   ]
  },
  {
   "cell_type": "code",
   "execution_count": 5,
   "id": "e09f7859",
   "metadata": {},
   "outputs": [],
   "source": [
    "joined = gpd.sjoin(\n",
    "    urban_gdf[['geometry']],\n",
    "    muni_gdf[['NAME', 'COUNTY', 'geometry']],\n",
    ").reset_index(drop=True)\n",
    "\n",
    "joined['muni_geometry'] = muni_gdf.loc[joined['index_right'], 'geometry'].reset_index(drop=True)\n",
    "\n",
    "joined['intersection_geometry'] = joined['geometry'].intersection(joined['muni_geometry'])"
   ]
  },
  {
   "cell_type": "code",
   "execution_count": 6,
   "id": "cd6d4f6a",
   "metadata": {},
   "outputs": [],
   "source": [
    "joined['percent_urban'] = joined['intersection_geometry'].area / joined['muni_geometry'].area"
   ]
  },
  {
   "cell_type": "code",
   "execution_count": 7,
   "id": "36ed23af",
   "metadata": {},
   "outputs": [],
   "source": [
    "final_df = pd.concat([\n",
    "    joined[['NAME', 'COUNTY', 'percent_urban']],\n",
    "    muni_gdf[~muni_gdf['NAME'].isin(joined['NAME'])][['NAME', 'COUNTY']]\n",
    "]).fillna(0)"
   ]
  },
  {
   "cell_type": "code",
   "execution_count": 8,
   "id": "0d0e240f",
   "metadata": {},
   "outputs": [],
   "source": [
    "final_df.to_csv(OUTPUT_DATA_DIR / 'urban_percent.csv', index=False)"
   ]
  }
 ],
 "metadata": {
  "kernelspec": {
   "display_name": "Python 3",
   "language": "python",
   "name": "python3"
  },
  "language_info": {
   "codemirror_mode": {
    "name": "ipython",
    "version": 3
   },
   "file_extension": ".py",
   "mimetype": "text/x-python",
   "name": "python",
   "nbconvert_exporter": "python",
   "pygments_lexer": "ipython3",
   "version": "3.8.6"
  }
 },
 "nbformat": 4,
 "nbformat_minor": 5
}
