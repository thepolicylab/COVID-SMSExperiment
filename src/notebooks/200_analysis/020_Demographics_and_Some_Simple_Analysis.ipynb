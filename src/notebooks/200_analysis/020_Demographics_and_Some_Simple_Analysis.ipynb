{
 "cells": [
  {
   "cell_type": "code",
   "execution_count": 1,
   "id": "6860d3bc",
   "metadata": {},
   "outputs": [],
   "source": [
    "import re\n",
    "from pathlib import Path\n",
    "\n",
    "import pandas as pd\n",
    "from scipy import stats as st\n",
    "\n",
    "from thompson import unvaccinated"
   ]
  },
  {
   "cell_type": "code",
   "execution_count": 2,
   "id": "0ecce20a",
   "metadata": {},
   "outputs": [],
   "source": [
    "# Directory containing unvaccinated people data\n",
    "\n",
    "DATA_DIR = Path.cwd() / \"..\" / \"..\" / \"..\" / \"data\" / \"unvax_data\"\n",
    "\n",
    "ORIGINAL_FILES = [\n",
    "    DATA_DIR / \"input\" / \"unvax_contact_list_20210521_uniq_id.csv\",\n",
    "    DATA_DIR / \"input\" / \"unvax_contact_list_20210601_uniq_id.csv\",\n",
    "    DATA_DIR / \"input\" / \"unvax_contact_list_20210608_uniq_id.csv\",\n",
    "    DATA_DIR / \"input\" / \"unvax_contact_list_20210622_uniq_id_updated.csv\",\n",
    "]\n",
    "\n",
    "ASSIGNMENT_FILES = [\n",
    "    DATA_DIR / \"output\" / \"full-2021-05-25-for-week.csv\",\n",
    "    DATA_DIR / \"output\" / \"full-2021-06-02-for-week.csv\",\n",
    "    DATA_DIR / \"output\" / \"full-2021-06-09-for-week.csv\",\n",
    "]\n",
    "\n",
    "VAX_DATA_FILE = (\n",
    "    Path.cwd()\n",
    "    / \"..\"\n",
    "    / \"..\"\n",
    "    / \"..\"\n",
    "    / \"data\"\n",
    "    / \"unvax_data\"\n",
    "    / \"input\"\n",
    "    / \"final_vax_list.csv\"\n",
    ")"
   ]
  },
  {
   "cell_type": "code",
   "execution_count": 3,
   "id": "d9ebc533",
   "metadata": {},
   "outputs": [],
   "source": [
    "# Read original (demographic) data in\n",
    "dfs = []\n",
    "for data_file in ORIGINAL_FILES:\n",
    "    df = unvaccinated.read_unvaccinated_csv(data_file)\n",
    "    the_date = pd.to_datetime(\n",
    "        re.search(r\"(\\d{8})\", data_file.stem).groups()[0],\n",
    "        format=\"%Y%m%d\",\n",
    "    )\n",
    "\n",
    "    df[\"record_date\"] = the_date\n",
    "    dfs.append(df)\n",
    "\n",
    "raw_df = pd.concat(dfs)"
   ]
  },
  {
   "cell_type": "code",
   "execution_count": 4,
   "id": "6d97ff46",
   "metadata": {},
   "outputs": [
    {
     "data": {
      "text/plain": [
       "variable          value\n",
       "age               1        175344\n",
       "                  2           991\n",
       "                  3             3\n",
       "city              1        175748\n",
       "                  2           587\n",
       "                  3             3\n",
       "current_age       1        158424\n",
       "                  2         17869\n",
       "                  3            45\n",
       "primary_language  0             1\n",
       "                  1        176134\n",
       "                  2           198\n",
       "                  3             5\n",
       "race_eth          0          5569\n",
       "                  1        169216\n",
       "                  2          1551\n",
       "                  3             2\n",
       "sex               0            33\n",
       "                  1        174862\n",
       "                  2          1441\n",
       "                  3             2\n",
       "test_result       1        175309\n",
       "                  2          1029\n",
       "zcta              1        175011\n",
       "                  2          1324\n",
       "                  3             3\n",
       "dtype: int64"
      ]
     },
     "execution_count": 4,
     "metadata": {},
     "output_type": "execute_result"
    }
   ],
   "source": [
    "# How frequently do records change between pulls? Seems not too frequently\n",
    "raw_df.drop(\"record_date\", axis=1).groupby(\"unique_id\").nunique().melt().groupby(\n",
    "    [\"variable\", \"value\"]\n",
    ").size()"
   ]
  },
  {
   "cell_type": "code",
   "execution_count": 5,
   "id": "5f65b533",
   "metadata": {},
   "outputs": [
    {
     "data": {
      "text/plain": [
       "0.8560888747745806"
      ]
     },
     "execution_count": 5,
     "metadata": {},
     "output_type": "execute_result"
    }
   ],
   "source": [
    "# How many unique_ids have at least one different record across time?\n",
    "(raw_df.drop(\"record_date\", axis=1).groupby(\"unique_id\").nunique() == 1).all(\n",
    "    axis=1\n",
    ").mean()"
   ]
  },
  {
   "cell_type": "code",
   "execution_count": 6,
   "id": "a5fb8999",
   "metadata": {},
   "outputs": [],
   "source": [
    "# Keep the first record we see for now\n",
    "demo_df = raw_df.sort_values(by=\"record_date\").drop_duplicates(\"unique_id\")"
   ]
  },
  {
   "cell_type": "code",
   "execution_count": 7,
   "id": "72d9692c",
   "metadata": {},
   "outputs": [],
   "source": [
    "# Read in message assignments\n",
    "old_df = pd.concat([pd.read_csv(filename) for filename in ASSIGNMENT_FILES]).rename(\n",
    "    columns={\n",
    "        \"ContactId\": \"unique_id\",\n",
    "        \"Groups\": \"assigned_message\",\n",
    "        \"Tags\": \"message_language\",\n",
    "    }\n",
    ")[\n",
    "    [\n",
    "        \"unique_id\",\n",
    "        \"assigned_message\",\n",
    "        \"message_language\",\n",
    "        \"date_sent\",\n",
    "        \"is_chosen_from_uniform\",\n",
    "    ]\n",
    "]\n",
    "\n",
    "old_df[\"date_sent\"] = pd.to_datetime(old_df[\"date_sent\"])"
   ]
  },
  {
   "cell_type": "code",
   "execution_count": 8,
   "id": "7f95d39a",
   "metadata": {},
   "outputs": [],
   "source": [
    "# Merge data\n",
    "merged_df = old_df.merge(demo_df, on=\"unique_id\")"
   ]
  },
  {
   "cell_type": "code",
   "execution_count": 9,
   "id": "f98cde61",
   "metadata": {},
   "outputs": [],
   "source": [
    "# Some Spanish speaking folks appear twice for admin reasons; keep last record\n",
    "merged_df = merged_df.sort_values(by=\"date_sent\").drop_duplicates(\n",
    "    \"unique_id\", keep=\"last\"\n",
    ")"
   ]
  },
  {
   "cell_type": "code",
   "execution_count": 10,
   "id": "af902aee",
   "metadata": {},
   "outputs": [],
   "source": [
    "# Drop people who didn't get message on last day\n",
    "merged_df = merged_df[merged_df[\"date_sent\"] < \"2021-06-15\"]"
   ]
  },
  {
   "cell_type": "code",
   "execution_count": 11,
   "id": "02e07288",
   "metadata": {},
   "outputs": [
    {
     "name": "stdout",
     "output_type": "stream",
     "text": [
      "======== age =========\n",
      "count      142456.000000\n",
      "mean           39.138801\n",
      "std            16.944347\n",
      "min            18.000000\n",
      "25%            25.000000\n",
      "50%            35.000000\n",
      "75%            51.000000\n",
      "max           120.000000\n",
      "missing         0.000000\n",
      "Name: age, dtype: float64\n",
      "\n",
      "======== sex =========\n",
      "female     65310\n",
      "male       62446\n",
      "unknown    14674\n",
      "NaN           26\n",
      "Name: sex, dtype: int64\n",
      "\n",
      "======== city =========\n",
      "providence          30555\n",
      "pawtucket           10448\n",
      "cranston             8713\n",
      "warwick              8221\n",
      "woonsocket           6111\n",
      "east providence      5469\n",
      "newport              5128\n",
      "bristol              4542\n",
      "north providence     4215\n",
      "cumberland           4106\n",
      "coventry             3949\n",
      "westerly             3642\n",
      "west warwick         3614\n",
      "johnston             3608\n",
      "smithfield           3156\n",
      "north kingstown      3069\n",
      "south kingstown      2832\n",
      "lincoln              2454\n",
      "central falls        2416\n",
      "tiverton             2415\n",
      "middletown           2379\n",
      "east greenwich       2302\n",
      "portsmouth           2225\n",
      "burrillville         2060\n",
      "barrington           1635\n",
      "narragansett         1611\n",
      "scituate             1396\n",
      "warren               1364\n",
      "charlestown          1287\n",
      "north smithfield     1270\n",
      "glocester            1049\n",
      "hopkinton            1009\n",
      "jamestown             701\n",
      "west greenwich        682\n",
      "richmond              668\n",
      "exeter                637\n",
      "foster                618\n",
      "little compton        583\n",
      "new shoreham          317\n",
      "Name: city, dtype: int64\n",
      "\n",
      "======== race_eth =========\n",
      "unknown     63810\n",
      "white       50286\n",
      "hispanic    12157\n",
      "black        5659\n",
      "other        4867\n",
      "NaN          4231\n",
      "declined     1446\n",
      "Name: race_eth, dtype: int64\n",
      "\n"
     ]
    }
   ],
   "source": [
    "# Print descriptives\n",
    "for col in [\"age\", \"sex\", \"city\", \"race_eth\"]:\n",
    "    print(f\"======== {col} =========\")\n",
    "    if col == \"age\":\n",
    "        details = merged_df[col].describe()\n",
    "        details[\"missing\"] = merged_df[col].isna().sum()\n",
    "        print(details)\n",
    "    else:\n",
    "        print(merged_df[col].value_counts(dropna=False))\n",
    "    print()"
   ]
  },
  {
   "cell_type": "code",
   "execution_count": null,
   "id": "1ea51f60",
   "metadata": {},
   "outputs": [],
   "source": []
  },
  {
   "cell_type": "code",
   "execution_count": null,
   "id": "e53f224e",
   "metadata": {},
   "outputs": [],
   "source": []
  },
  {
   "cell_type": "markdown",
   "id": "cfa7d78b",
   "metadata": {},
   "source": [
    "### Compare vaccination data to data we received for Thompson Sampler"
   ]
  },
  {
   "cell_type": "code",
   "execution_count": 12,
   "id": "6085c3a1",
   "metadata": {},
   "outputs": [],
   "source": [
    "# Read in main data\n",
    "vax_df = pd.read_csv(VAX_DATA_FILE)"
   ]
  },
  {
   "cell_type": "code",
   "execution_count": 13,
   "id": "fa1c9732",
   "metadata": {},
   "outputs": [],
   "source": [
    "old_df[\"iteration\"] = (\n",
    "    3 - (old_df[\"date_sent\"] <= \"2021-05-28\") - (old_df[\"date_sent\"] <= \"2021-06-08\")\n",
    ")"
   ]
  },
  {
   "cell_type": "code",
   "execution_count": 14,
   "id": "f3e4f95d",
   "metadata": {},
   "outputs": [
    {
     "data": {
      "text/plain": [
       "2021-05-21    162504\n",
       "2021-06-22    151820\n",
       "2021-06-08    151796\n",
       "2021-06-01    148567\n",
       "Name: record_date, dtype: int64"
      ]
     },
     "execution_count": 14,
     "metadata": {},
     "output_type": "execute_result"
    }
   ],
   "source": [
    "raw_df[\"record_date\"].value_counts()"
   ]
  },
  {
   "cell_type": "code",
   "execution_count": 15,
   "id": "10de4723",
   "metadata": {},
   "outputs": [],
   "source": [
    "first_iteration_assigned = old_df[old_df[\"iteration\"] == 1]\n",
    "first_check = raw_df[raw_df[\"record_date\"] == \"2021-06-01\"]\n",
    "second_check = raw_df[raw_df[\"record_date\"] == \"2021-06-08\"]\n",
    "third_check = raw_df[raw_df[\"record_date\"] == \"2021-06-22\"]"
   ]
  },
  {
   "cell_type": "code",
   "execution_count": 16,
   "id": "5f627ade",
   "metadata": {},
   "outputs": [],
   "source": [
    "first_merge = (\n",
    "    first_iteration_assigned.merge(\n",
    "        first_check[[\"unique_id\"]],\n",
    "        how=\"left\",\n",
    "        on=\"unique_id\",\n",
    "        indicator=\"_merge_second_file\",\n",
    "    )\n",
    "    .merge(\n",
    "        second_check[[\"unique_id\"]],\n",
    "        how=\"left\",\n",
    "        on=\"unique_id\",\n",
    "        indicator=\"_merge_third_file\",\n",
    "    )\n",
    "    .merge(\n",
    "        third_check[[\"unique_id\"]],\n",
    "        how=\"left\",\n",
    "        on=\"unique_id\",\n",
    "        indicator=\"_merge_fourth_file\",\n",
    "    )\n",
    "    .merge(\n",
    "        vax_df.sort_values(by=\"admin_date\")\n",
    "        .drop_duplicates(\"unique_id\")\n",
    "        .loc[vax_df[\"admin_date\"] < \"2021-06-02\", [\"unique_id\"]],\n",
    "        how=\"left\",\n",
    "        on=\"unique_id\",\n",
    "        indicator=\"_merge_vax_file\",\n",
    "    )\n",
    ")"
   ]
  },
  {
   "cell_type": "code",
   "execution_count": 17,
   "id": "a0c251ca",
   "metadata": {},
   "outputs": [],
   "source": [
    "for key in [\"second\", \"third\", \"fourth\"]:\n",
    "    first_merge[f\"vaccinated_by_{key}_file\"] = (\n",
    "        first_merge[f\"_merge_{key}_file\"] == \"left_only\"\n",
    "    )\n",
    "\n",
    "first_merge[\"vaccinated_by_vax_file\"] = first_merge[\"_merge_vax_file\"] == \"both\""
   ]
  },
  {
   "cell_type": "code",
   "execution_count": 18,
   "id": "7bcc60cb",
   "metadata": {},
   "outputs": [
    {
     "data": {
      "text/html": [
       "<div>\n",
       "<style scoped>\n",
       "    .dataframe tbody tr th:only-of-type {\n",
       "        vertical-align: middle;\n",
       "    }\n",
       "\n",
       "    .dataframe tbody tr th {\n",
       "        vertical-align: top;\n",
       "    }\n",
       "\n",
       "    .dataframe thead th {\n",
       "        text-align: right;\n",
       "    }\n",
       "</style>\n",
       "<table border=\"1\" class=\"dataframe\">\n",
       "  <thead>\n",
       "    <tr style=\"text-align: right;\">\n",
       "      <th>vaccinated_by_vax_file</th>\n",
       "      <th>False</th>\n",
       "      <th>True</th>\n",
       "    </tr>\n",
       "    <tr>\n",
       "      <th>vaccinated_by_second_file</th>\n",
       "      <th></th>\n",
       "      <th></th>\n",
       "    </tr>\n",
       "  </thead>\n",
       "  <tbody>\n",
       "    <tr>\n",
       "      <th>False</th>\n",
       "      <td>35447</td>\n",
       "      <td>234</td>\n",
       "    </tr>\n",
       "    <tr>\n",
       "      <th>True</th>\n",
       "      <td>3280</td>\n",
       "      <td>1039</td>\n",
       "    </tr>\n",
       "  </tbody>\n",
       "</table>\n",
       "</div>"
      ],
      "text/plain": [
       "vaccinated_by_vax_file     False  True \n",
       "vaccinated_by_second_file              \n",
       "False                      35447    234\n",
       "True                        3280   1039"
      ]
     },
     "execution_count": 18,
     "metadata": {},
     "output_type": "execute_result"
    }
   ],
   "source": [
    "first_merge.groupby(\n",
    "    [\"vaccinated_by_second_file\", \"vaccinated_by_vax_file\"]\n",
    ").size().reset_index().pivot_table(\n",
    "    index=\"vaccinated_by_second_file\", columns=\"vaccinated_by_vax_file\", values=0\n",
    ")"
   ]
  },
  {
   "cell_type": "code",
   "execution_count": 19,
   "id": "9f3ae0f3",
   "metadata": {},
   "outputs": [
    {
     "data": {
      "text/html": [
       "<div>\n",
       "<style scoped>\n",
       "    .dataframe tbody tr th:only-of-type {\n",
       "        vertical-align: middle;\n",
       "    }\n",
       "\n",
       "    .dataframe tbody tr th {\n",
       "        vertical-align: top;\n",
       "    }\n",
       "\n",
       "    .dataframe thead th {\n",
       "        text-align: right;\n",
       "    }\n",
       "</style>\n",
       "<table border=\"1\" class=\"dataframe\">\n",
       "  <thead>\n",
       "    <tr style=\"text-align: right;\">\n",
       "      <th></th>\n",
       "      <th>vaccinated_by_vax_file</th>\n",
       "      <th>False</th>\n",
       "      <th>True</th>\n",
       "    </tr>\n",
       "    <tr>\n",
       "      <th>assigned_message</th>\n",
       "      <th>vaccinated_by_second_file</th>\n",
       "      <th></th>\n",
       "      <th></th>\n",
       "    </tr>\n",
       "  </thead>\n",
       "  <tbody>\n",
       "    <tr>\n",
       "      <th rowspan=\"2\" valign=\"top\">message_0</th>\n",
       "      <th>False</th>\n",
       "      <td>3934</td>\n",
       "      <td>33</td>\n",
       "    </tr>\n",
       "    <tr>\n",
       "      <th>True</th>\n",
       "      <td>362</td>\n",
       "      <td>116</td>\n",
       "    </tr>\n",
       "    <tr>\n",
       "      <th rowspan=\"2\" valign=\"top\">message_1</th>\n",
       "      <th>False</th>\n",
       "      <td>3950</td>\n",
       "      <td>20</td>\n",
       "    </tr>\n",
       "    <tr>\n",
       "      <th>True</th>\n",
       "      <td>362</td>\n",
       "      <td>113</td>\n",
       "    </tr>\n",
       "    <tr>\n",
       "      <th rowspan=\"2\" valign=\"top\">message_2</th>\n",
       "      <th>False</th>\n",
       "      <td>3932</td>\n",
       "      <td>27</td>\n",
       "    </tr>\n",
       "    <tr>\n",
       "      <th>True</th>\n",
       "      <td>367</td>\n",
       "      <td>119</td>\n",
       "    </tr>\n",
       "    <tr>\n",
       "      <th rowspan=\"2\" valign=\"top\">message_3</th>\n",
       "      <th>False</th>\n",
       "      <td>3933</td>\n",
       "      <td>28</td>\n",
       "    </tr>\n",
       "    <tr>\n",
       "      <th>True</th>\n",
       "      <td>360</td>\n",
       "      <td>124</td>\n",
       "    </tr>\n",
       "    <tr>\n",
       "      <th rowspan=\"2\" valign=\"top\">message_4</th>\n",
       "      <th>False</th>\n",
       "      <td>3951</td>\n",
       "      <td>22</td>\n",
       "    </tr>\n",
       "    <tr>\n",
       "      <th>True</th>\n",
       "      <td>371</td>\n",
       "      <td>100</td>\n",
       "    </tr>\n",
       "    <tr>\n",
       "      <th rowspan=\"2\" valign=\"top\">message_5</th>\n",
       "      <th>False</th>\n",
       "      <td>3921</td>\n",
       "      <td>30</td>\n",
       "    </tr>\n",
       "    <tr>\n",
       "      <th>True</th>\n",
       "      <td>373</td>\n",
       "      <td>120</td>\n",
       "    </tr>\n",
       "    <tr>\n",
       "      <th rowspan=\"2\" valign=\"top\">message_6</th>\n",
       "      <th>False</th>\n",
       "      <td>3954</td>\n",
       "      <td>24</td>\n",
       "    </tr>\n",
       "    <tr>\n",
       "      <th>True</th>\n",
       "      <td>358</td>\n",
       "      <td>108</td>\n",
       "    </tr>\n",
       "    <tr>\n",
       "      <th rowspan=\"2\" valign=\"top\">message_7</th>\n",
       "      <th>False</th>\n",
       "      <td>3934</td>\n",
       "      <td>24</td>\n",
       "    </tr>\n",
       "    <tr>\n",
       "      <th>True</th>\n",
       "      <td>374</td>\n",
       "      <td>112</td>\n",
       "    </tr>\n",
       "    <tr>\n",
       "      <th rowspan=\"2\" valign=\"top\">message_8</th>\n",
       "      <th>False</th>\n",
       "      <td>3938</td>\n",
       "      <td>26</td>\n",
       "    </tr>\n",
       "    <tr>\n",
       "      <th>True</th>\n",
       "      <td>353</td>\n",
       "      <td>127</td>\n",
       "    </tr>\n",
       "  </tbody>\n",
       "</table>\n",
       "</div>"
      ],
      "text/plain": [
       "vaccinated_by_vax_file                      False  True \n",
       "assigned_message vaccinated_by_second_file              \n",
       "message_0        False                       3934     33\n",
       "                 True                         362    116\n",
       "message_1        False                       3950     20\n",
       "                 True                         362    113\n",
       "message_2        False                       3932     27\n",
       "                 True                         367    119\n",
       "message_3        False                       3933     28\n",
       "                 True                         360    124\n",
       "message_4        False                       3951     22\n",
       "                 True                         371    100\n",
       "message_5        False                       3921     30\n",
       "                 True                         373    120\n",
       "message_6        False                       3954     24\n",
       "                 True                         358    108\n",
       "message_7        False                       3934     24\n",
       "                 True                         374    112\n",
       "message_8        False                       3938     26\n",
       "                 True                         353    127"
      ]
     },
     "execution_count": 19,
     "metadata": {},
     "output_type": "execute_result"
    }
   ],
   "source": [
    "first_merge.groupby(\n",
    "    [\"assigned_message\", \"vaccinated_by_second_file\", \"vaccinated_by_vax_file\"]\n",
    ").size().reset_index().pivot_table(\n",
    "    index=[\"assigned_message\", \"vaccinated_by_second_file\"],\n",
    "    columns=[\"vaccinated_by_vax_file\"],\n",
    "    values=0,\n",
    ")"
   ]
  },
  {
   "cell_type": "code",
   "execution_count": 20,
   "id": "37bd1707",
   "metadata": {},
   "outputs": [
    {
     "data": {
      "text/plain": [
       "LinregressResult(slope=0.23400683342872236, intercept=0.006558112160533702, rvalue=0.41373048372576793, pvalue=0.0, stderr=0.0025746834932866896, intercept_stderr=0.0008460293995529085)"
      ]
     },
     "execution_count": 20,
     "metadata": {},
     "output_type": "execute_result"
    }
   ],
   "source": [
    "# What was the r for \"vaccinated\" according to the original file\n",
    "# we received versus actually \"vaccinated\"\n",
    "st.linregress(\n",
    "    first_merge[\"vaccinated_by_second_file\"], first_merge[\"vaccinated_by_vax_file\"]\n",
    ")"
   ]
  },
  {
   "cell_type": "code",
   "execution_count": 25,
   "id": "c75a8e75",
   "metadata": {},
   "outputs": [
    {
     "data": {
      "text/plain": [
       "assigned_message\n",
       "message_0    0.393305\n",
       "message_1    0.370526\n",
       "message_2    0.409465\n",
       "message_3    0.400826\n",
       "message_4    0.405520\n",
       "message_5    0.361055\n",
       "message_6    0.381974\n",
       "message_7    0.382716\n",
       "message_8    0.385417\n",
       "Name: did_reappear, dtype: float64"
      ]
     },
     "execution_count": 25,
     "metadata": {},
     "output_type": "execute_result"
    }
   ],
   "source": [
    "# What is the correlation in the \"noise\" by message, as measured by\n",
    "# people who reappeared in future files\n",
    "just_vaccinated_after_second_file = first_merge[\n",
    "    first_merge[\"vaccinated_by_second_file\"]\n",
    "].copy()\n",
    "\n",
    "just_vaccinated_after_second_file[\"did_reappear\"] = (\n",
    "    ~first_merge[\"vaccinated_by_third_file\"] # | ~first_merge[\"vaccinated_by_fourth_file\"]\n",
    ")\n",
    "just_vaccinated_after_second_file.groupby(\"assigned_message\")[\"did_reappear\"].mean()"
   ]
  },
  {
   "cell_type": "code",
   "execution_count": 26,
   "id": "2ca23c23",
   "metadata": {},
   "outputs": [
    {
     "data": {
      "text/plain": [
       "(4.204046486944356,\n",
       " 0.8382602669452339,\n",
       " 8,\n",
       " array([[292.62144015, 185.37855985],\n",
       "        [290.78490391, 184.21509609],\n",
       "        [297.51887011, 188.48112989],\n",
       "        [296.29451262, 187.70548738],\n",
       "        [288.33618893, 182.66381107],\n",
       "        [301.80412132, 191.19587868],\n",
       "        [285.27529521, 180.72470479],\n",
       "        [297.51887011, 188.48112989],\n",
       "        [293.84579764, 186.15420236]]))"
      ]
     },
     "execution_count": 26,
     "metadata": {},
     "output_type": "execute_result"
    }
   ],
   "source": [
    "# Compute the chi-square test for this data\n",
    "# Note that chi-square is appropriate because while stratification\n",
    "# was by day, it was equal by day so this shouldn't matter\n",
    "st.chi2_contingency(\n",
    "    just_vaccinated_after_second_file.groupby(\"assigned_message\")[\"did_reappear\"]\n",
    "    .value_counts()\n",
    "    .rename(\"values\")\n",
    "    .reset_index()\n",
    "    .pivot_table(index=\"assigned_message\", columns=\"did_reappear\", values=\"values\")\n",
    "    .values\n",
    ")"
   ]
  },
  {
   "cell_type": "code",
   "execution_count": 27,
   "id": "d1f4f7ab",
   "metadata": {},
   "outputs": [
    {
     "data": {
      "text/plain": [
       "0.3878212549201204"
      ]
     },
     "execution_count": 27,
     "metadata": {},
     "output_type": "execute_result"
    }
   ],
   "source": [
    "just_vaccinated_after_second_file['did_reappear'].mean()"
   ]
  }
 ],
 "metadata": {
  "kernelspec": {
   "display_name": "Python 3",
   "language": "python",
   "name": "python3"
  },
  "language_info": {
   "codemirror_mode": {
    "name": "ipython",
    "version": 3
   },
   "file_extension": ".py",
   "mimetype": "text/x-python",
   "name": "python",
   "nbconvert_exporter": "python",
   "pygments_lexer": "ipython3",
   "version": "3.8.6"
  }
 },
 "nbformat": 4,
 "nbformat_minor": 5
}
