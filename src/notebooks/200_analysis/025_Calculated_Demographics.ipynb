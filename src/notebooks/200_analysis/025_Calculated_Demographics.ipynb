{
 "cells": [
  {
   "cell_type": "markdown",
   "id": "democratic-evidence",
   "metadata": {},
   "source": [
    "## Pull ZIP Code data\n",
    "\n",
    "For each ZIP code (**NOT** ZCTA) in Rhode Island, provide an approximation of:\n",
    "  * The total vote in 2020\n",
    "  * The Democratic and Republican vote for President in 2020\n",
    "  * The total population\n",
    "  * The black and Hispanic population\n",
    "\n",
    "Computes based on:\n",
    "  * Rhode Island precinct-level vote totals (and shapefiles)\n",
    "  * ACS 5-year population totals\n",
    "  * HUD USPS TRACT/ZIP crosswalks"
   ]
  },
  {
   "cell_type": "code",
   "execution_count": 1,
   "id": "f24b21f8",
   "metadata": {},
   "outputs": [
    {
     "data": {
      "text/plain": [
       "True"
      ]
     },
     "execution_count": 1,
     "metadata": {},
     "output_type": "execute_result"
    }
   ],
   "source": [
    "import json\n",
    "import os\n",
    "import re\n",
    "from collections import Counter\n",
    "from pathlib import Path\n",
    "from typing import Union\n",
    "from urllib import parse\n",
    "\n",
    "import geopandas as gpd\n",
    "import pandas as pd\n",
    "import requests\n",
    "import us\n",
    "from bs4 import BeautifulSoup\n",
    "from census import Census\n",
    "from dotenv import load_dotenv\n",
    "from tqdm.notebook import tqdm\n",
    "\n",
    "load_dotenv()"
   ]
  },
  {
   "cell_type": "code",
   "execution_count": 2,
   "id": "a8ccc5e4",
   "metadata": {},
   "outputs": [],
   "source": [
    "DATA_DIR = Path.cwd() / \"..\" / \"..\" / \"..\" / \"data\" / \"demographics\"\n",
    "\n",
    "DATA_DIR.mkdir(exist_ok=True, parents=True)\n",
    "\n",
    "TRACT_ZIP_FILE = DATA_DIR / \"TRACT_ZIP_032021.xlsx\"\n",
    "\n",
    "# Redownload precinct data if True\n",
    "REDOWNLOAD = False"
   ]
  },
  {
   "cell_type": "code",
   "execution_count": null,
   "id": "58f5a64d",
   "metadata": {},
   "outputs": [],
   "source": []
  },
  {
   "cell_type": "code",
   "execution_count": 3,
   "id": "f22f85dc",
   "metadata": {},
   "outputs": [],
   "source": [
    "def get_soup(url: str) -> BeautifulSoup:\n",
    "    \"\"\"Download a URL into BeautifulSoup\"\"\"\n",
    "    response = requests.get(url)\n",
    "    return BeautifulSoup(response.content, \"html.parser\")\n",
    "\n",
    "\n",
    "def get_last(url: str) -> str:\n",
    "    \"\"\"Get the last folder from a URL\"\"\"\n",
    "    return url.rstrip(\"/\").split(\"/\")[-1]\n",
    "\n",
    "\n",
    "def download_file(url: str, outpath: Union[str, Path], chunk_size: int = 8192):\n",
    "    \"\"\"Download file at `url` to `outpath`\"\"\"\n",
    "    with requests.get(url, stream=True) as response:\n",
    "        length = int(response.headers.get(\"Content-length\", 0))\n",
    "        with open(outpath, \"wb\") as outfile:\n",
    "            for chunk in tqdm(\n",
    "                response.iter_content(chunk_size=chunk_size), total=length // chunk_size\n",
    "            ):\n",
    "                outfile.write(chunk)"
   ]
  },
  {
   "cell_type": "markdown",
   "id": "biblical-latitude",
   "metadata": {},
   "source": [
    "### Download precinct level result data"
   ]
  },
  {
   "cell_type": "code",
   "execution_count": 4,
   "id": "0d465030",
   "metadata": {},
   "outputs": [],
   "source": [
    "BASE_URL = \"https://www.ri.gov/election/results/2020/general_election/data/\"\n",
    "\n",
    "soup = get_soup(BASE_URL)\n",
    "elt = soup.find(\"h3\", text=\"Results by city/town\")\n",
    "\n",
    "city_urls = [\n",
    "    parse.urljoin(BASE_URL, local_elt.get(\"href\"))\n",
    "    for local_elt in elt.parent.find_all(\"a\")\n",
    "]"
   ]
  },
  {
   "cell_type": "code",
   "execution_count": 5,
   "id": "834727bb",
   "metadata": {},
   "outputs": [],
   "source": [
    "def parse_tr(tr):\n",
    "    \"\"\"Parse a tr into results\"\"\"\n",
    "    vote_count_texts = [\n",
    "        x.text.replace(\"\\xa0\", \" \")\n",
    "        for x in tr.find(\"ul\", class_=\"mailinbreakout\").find_all(\"li\")\n",
    "    ]\n",
    "    vote_count_dict = {}\n",
    "    for text in vote_count_texts:\n",
    "        place, count = re.match(r\"^([A-Za-z ]+): (\\d+)$\", text).groups()\n",
    "        count = int(count)\n",
    "        vote_count_dict[place] = count\n",
    "    total = sum(vote_count_dict.values())\n",
    "    candidate_name = tr.find(\"td\", class_=\"candidate\").text.strip()\n",
    "    return {\n",
    "        \"candidate_name\": candidate_name,\n",
    "        \"total\": total,\n",
    "        \"vote_count_details\": vote_count_dict,\n",
    "    }"
   ]
  },
  {
   "cell_type": "code",
   "execution_count": 6,
   "id": "ddb858c4",
   "metadata": {},
   "outputs": [],
   "source": [
    "if REDOWNLOAD or not (DATA_DIR / \"precinct_results_ri.json\").exists():\n",
    "    by_city = {}\n",
    "    for city_url in tqdm(city_urls, desc=\"Overall...\"):\n",
    "        soup = get_soup(city_url)\n",
    "        precinct_urls = [\n",
    "            parse.urljoin(city_url, local_elt.get(\"href\"))\n",
    "            for local_elt in soup.find(\"div\", id=\"byPrecinct\").find_all(\"a\")\n",
    "        ]\n",
    "        by_precinct = {}\n",
    "        city_name = get_last(city_url)\n",
    "\n",
    "        for precinct_url in tqdm(precinct_urls, desc=get_last(city_url)):\n",
    "            soup = get_soup(precinct_url)\n",
    "            soup.find_all(\"div\", class_=\"raceResults\")[0].find(\"table\").get(\"summary\")\n",
    "            votes_for_candidates_by_race = {}\n",
    "            for div in soup.find_all(\"div\", class_=\"raceResults\"):\n",
    "                race = div.find(\"table\").get(\"summary\")\n",
    "                votes_for_candidates = []\n",
    "                for tr in div.find(\"tbody\").find_all(\"tr\"):\n",
    "                    votes_for_candidates.append(parse_tr(tr))\n",
    "                votes_for_candidates_by_race[race] = votes_for_candidates\n",
    "            by_precinct[get_last(precinct_url)] = votes_for_candidates_by_race\n",
    "\n",
    "        by_city[get_last(city_url)] = by_precinct\n",
    "\n",
    "    with open(DATA_DIR / \"precinct_results_ri.json\", \"wt\") as outfile:\n",
    "        json.dump(by_city, outfile)\n",
    "else:\n",
    "    with open(DATA_DIR / \"precinct_results_ri.json\", \"rt\") as infile:\n",
    "        by_city = json.load(infile)"
   ]
  },
  {
   "cell_type": "code",
   "execution_count": null,
   "id": "c819c4f7",
   "metadata": {},
   "outputs": [],
   "source": []
  },
  {
   "cell_type": "code",
   "execution_count": 7,
   "id": "handy-emergency",
   "metadata": {},
   "outputs": [
    {
     "data": {
      "text/plain": [
       "Counter({1: 500})"
      ]
     },
     "execution_count": 7,
     "metadata": {},
     "output_type": "execute_result"
    }
   ],
   "source": [
    "# Make sure each precinct name appears only once\n",
    "Counter(Counter(k for v in by_city.values() for k in v).values())"
   ]
  },
  {
   "cell_type": "code",
   "execution_count": 8,
   "id": "concerned-arrival",
   "metadata": {},
   "outputs": [],
   "source": [
    "def get_from_list(lst, candidate_name):\n",
    "    for val in lst:\n",
    "        if val[\"candidate_name\"].startswith(candidate_name):\n",
    "            return val[\"total\"]\n",
    "\n",
    "\n",
    "def get_total(lst):\n",
    "    return sum(val[\"total\"] for val in lst)"
   ]
  },
  {
   "cell_type": "code",
   "execution_count": 9,
   "id": "alike-garlic",
   "metadata": {},
   "outputs": [],
   "source": [
    "precinct_df = pd.DataFrame.from_records(\n",
    "    [\n",
    "        (\n",
    "            precinct_name,\n",
    "            get_from_list(\n",
    "                precinct_data[\"Presidential Electors For:\"], \"Joseph R. Biden\"\n",
    "            ),\n",
    "            get_from_list(\n",
    "                precinct_data[\"Presidential Electors For:\"], \"Donald J. Trump\"\n",
    "            ),\n",
    "            get_total(precinct_data[\"Presidential Electors For:\"]),\n",
    "        )\n",
    "        for city_data in by_city.values()\n",
    "        for precinct_name, precinct_data in city_data.items()\n",
    "    ],\n",
    "    columns=[\"precinct_name\", \"dem_total\", \"rep_total\", \"total\"],\n",
    ")"
   ]
  },
  {
   "cell_type": "markdown",
   "id": "legislative-colombia",
   "metadata": {},
   "source": [
    "### Download precint shapefiles"
   ]
  },
  {
   "cell_type": "code",
   "execution_count": 10,
   "id": "finite-adventure",
   "metadata": {},
   "outputs": [],
   "source": [
    "PRECINCT_SHAPEFILE_ONLINE = (\n",
    "    \"https://github.com/mggg-states/RI-shapefiles/blob/master/RI_precincts.zip?raw=true\"\n",
    ")\n",
    "PRECINCT_SHAPEFILE_LOCAL = DATA_DIR / \"precinct_shapes.zip\""
   ]
  },
  {
   "cell_type": "code",
   "execution_count": 11,
   "id": "shared-postage",
   "metadata": {},
   "outputs": [
    {
     "data": {
      "application/vnd.jupyter.widget-view+json": {
       "model_id": "34402231fb874acba7e2c5023f82fda8",
       "version_major": 2,
       "version_minor": 0
      },
      "text/plain": [
       "  0%|          | 0/413 [00:00<?, ?it/s]"
      ]
     },
     "metadata": {},
     "output_type": "display_data"
    }
   ],
   "source": [
    "download_file(PRECINCT_SHAPEFILE_ONLINE, PRECINCT_SHAPEFILE_LOCAL)"
   ]
  },
  {
   "cell_type": "code",
   "execution_count": 12,
   "id": "cultural-drawing",
   "metadata": {},
   "outputs": [],
   "source": [
    "gdf = gpd.read_file(f\"zip://{PRECINCT_SHAPEFILE_LOCAL}\")"
   ]
  },
  {
   "cell_type": "code",
   "execution_count": 13,
   "id": "about-italian",
   "metadata": {},
   "outputs": [],
   "source": [
    "precinct_df = (\n",
    "    gdf[[\"NAME\", \"geometry\"]]\n",
    "    .rename(columns={\"NAME\": \"precinct_name\"})\n",
    "    .merge(precinct_df, on=\"precinct_name\")\n",
    ")"
   ]
  },
  {
   "cell_type": "code",
   "execution_count": 14,
   "id": "massive-driver",
   "metadata": {},
   "outputs": [
    {
     "data": {
      "text/html": [
       "<div>\n",
       "<style scoped>\n",
       "    .dataframe tbody tr th:only-of-type {\n",
       "        vertical-align: middle;\n",
       "    }\n",
       "\n",
       "    .dataframe tbody tr th {\n",
       "        vertical-align: top;\n",
       "    }\n",
       "\n",
       "    .dataframe thead th {\n",
       "        text-align: right;\n",
       "    }\n",
       "</style>\n",
       "<table border=\"1\" class=\"dataframe\">\n",
       "  <thead>\n",
       "    <tr style=\"text-align: right;\">\n",
       "      <th></th>\n",
       "      <th>precinct_name</th>\n",
       "      <th>geometry</th>\n",
       "      <th>dem_total</th>\n",
       "      <th>rep_total</th>\n",
       "      <th>total</th>\n",
       "    </tr>\n",
       "  </thead>\n",
       "  <tbody>\n",
       "    <tr>\n",
       "      <th>0</th>\n",
       "      <td>3206</td>\n",
       "      <td>POLYGON ((-71.59728 41.52114, -71.59425 41.520...</td>\n",
       "      <td>941</td>\n",
       "      <td>458</td>\n",
       "      <td>1443</td>\n",
       "    </tr>\n",
       "    <tr>\n",
       "      <th>1</th>\n",
       "      <td>2102</td>\n",
       "      <td>MULTIPOLYGON (((-71.32694 41.51443, -71.32685 ...</td>\n",
       "      <td>1429</td>\n",
       "      <td>451</td>\n",
       "      <td>1916</td>\n",
       "    </tr>\n",
       "    <tr>\n",
       "      <th>2</th>\n",
       "      <td>2608</td>\n",
       "      <td>POLYGON ((-71.39121 41.85671, -71.39236 41.857...</td>\n",
       "      <td>1195</td>\n",
       "      <td>256</td>\n",
       "      <td>1482</td>\n",
       "    </tr>\n",
       "    <tr>\n",
       "      <th>3</th>\n",
       "      <td>2823</td>\n",
       "      <td>POLYGON ((-71.42801 41.80906, -71.42799 41.808...</td>\n",
       "      <td>915</td>\n",
       "      <td>247</td>\n",
       "      <td>1175</td>\n",
       "    </tr>\n",
       "    <tr>\n",
       "      <th>4</th>\n",
       "      <td>2855</td>\n",
       "      <td>POLYGON ((-71.44787 41.83140, -71.44719 41.831...</td>\n",
       "      <td>1118</td>\n",
       "      <td>363</td>\n",
       "      <td>1503</td>\n",
       "    </tr>\n",
       "    <tr>\n",
       "      <th>...</th>\n",
       "      <td>...</td>\n",
       "      <td>...</td>\n",
       "      <td>...</td>\n",
       "      <td>...</td>\n",
       "      <td>...</td>\n",
       "    </tr>\n",
       "    <tr>\n",
       "      <th>413</th>\n",
       "      <td>2701</td>\n",
       "      <td>MULTIPOLYGON (((-71.29807 41.58077, -71.29804 ...</td>\n",
       "      <td>72</td>\n",
       "      <td>43</td>\n",
       "      <td>119</td>\n",
       "    </tr>\n",
       "    <tr>\n",
       "      <th>414</th>\n",
       "      <td>2810</td>\n",
       "      <td>POLYGON ((-71.40536 41.82267, -71.40436 41.821...</td>\n",
       "      <td>98</td>\n",
       "      <td>12</td>\n",
       "      <td>111</td>\n",
       "    </tr>\n",
       "    <tr>\n",
       "      <th>415</th>\n",
       "      <td>2836</td>\n",
       "      <td>POLYGON ((-71.41189 41.83637, -71.41188 41.836...</td>\n",
       "      <td>11</td>\n",
       "      <td>1</td>\n",
       "      <td>12</td>\n",
       "    </tr>\n",
       "    <tr>\n",
       "      <th>416</th>\n",
       "      <td>2807</td>\n",
       "      <td>POLYGON ((-71.40906 41.82750, -71.40955 41.827...</td>\n",
       "      <td>4</td>\n",
       "      <td>0</td>\n",
       "      <td>4</td>\n",
       "    </tr>\n",
       "    <tr>\n",
       "      <th>417</th>\n",
       "      <td>0731</td>\n",
       "      <td>POLYGON ((-71.47691 41.78814, -71.47645 41.787...</td>\n",
       "      <td>921</td>\n",
       "      <td>937</td>\n",
       "      <td>1882</td>\n",
       "    </tr>\n",
       "  </tbody>\n",
       "</table>\n",
       "<p>418 rows × 5 columns</p>\n",
       "</div>"
      ],
      "text/plain": [
       "    precinct_name                                           geometry  \\\n",
       "0            3206  POLYGON ((-71.59728 41.52114, -71.59425 41.520...   \n",
       "1            2102  MULTIPOLYGON (((-71.32694 41.51443, -71.32685 ...   \n",
       "2            2608  POLYGON ((-71.39121 41.85671, -71.39236 41.857...   \n",
       "3            2823  POLYGON ((-71.42801 41.80906, -71.42799 41.808...   \n",
       "4            2855  POLYGON ((-71.44787 41.83140, -71.44719 41.831...   \n",
       "..            ...                                                ...   \n",
       "413          2701  MULTIPOLYGON (((-71.29807 41.58077, -71.29804 ...   \n",
       "414          2810  POLYGON ((-71.40536 41.82267, -71.40436 41.821...   \n",
       "415          2836  POLYGON ((-71.41189 41.83637, -71.41188 41.836...   \n",
       "416          2807  POLYGON ((-71.40906 41.82750, -71.40955 41.827...   \n",
       "417          0731  POLYGON ((-71.47691 41.78814, -71.47645 41.787...   \n",
       "\n",
       "     dem_total  rep_total  total  \n",
       "0          941        458   1443  \n",
       "1         1429        451   1916  \n",
       "2         1195        256   1482  \n",
       "3          915        247   1175  \n",
       "4         1118        363   1503  \n",
       "..         ...        ...    ...  \n",
       "413         72         43    119  \n",
       "414         98         12    111  \n",
       "415         11          1     12  \n",
       "416          4          0      4  \n",
       "417        921        937   1882  \n",
       "\n",
       "[418 rows x 5 columns]"
      ]
     },
     "execution_count": 14,
     "metadata": {},
     "output_type": "execute_result"
    }
   ],
   "source": [
    "precinct_df"
   ]
  },
  {
   "cell_type": "markdown",
   "id": "italian-indianapolis",
   "metadata": {},
   "source": [
    "### Download ZCTA files"
   ]
  },
  {
   "cell_type": "code",
   "execution_count": 15,
   "id": "natural-setting",
   "metadata": {},
   "outputs": [
    {
     "data": {
      "application/vnd.jupyter.widget-view+json": {
       "model_id": "96ca769bb7334fefaf927ae1bd535aea",
       "version_major": 2,
       "version_minor": 0
      },
      "text/plain": [
       "  0%|          | 0/86 [00:00<?, ?it/s]"
      ]
     },
     "metadata": {},
     "output_type": "display_data"
    },
    {
     "data": {
      "application/vnd.jupyter.widget-view+json": {
       "model_id": "dbe3ebdfaec74a7685fb22d4073423ea",
       "version_major": 2,
       "version_minor": 0
      },
      "text/plain": [
       "  0%|          | 0/90 [00:00<?, ?it/s]"
      ]
     },
     "metadata": {},
     "output_type": "display_data"
    }
   ],
   "source": [
    "TRACT_SHAPEFILE_LOCAL = DATA_DIR / \"tract_shapes.zip\"\n",
    "download_file(us.states.RI.shapefile_urls(\"tract\"), TRACT_SHAPEFILE_LOCAL)\n",
    "\n",
    "ZCTA_SHAPEFILE_LOCAL = DATA_DIR / \"zcta_shapes.zip\"\n",
    "download_file(us.states.RI.shapefile_urls(\"zcta\"), ZCTA_SHAPEFILE_LOCAL)"
   ]
  },
  {
   "cell_type": "code",
   "execution_count": 16,
   "id": "three-saturn",
   "metadata": {},
   "outputs": [],
   "source": [
    "tract_gdf = gpd.read_file(f\"zip://{TRACT_SHAPEFILE_LOCAL.resolve()}\")\n",
    "zcta_gdf = gpd.read_file(f\"zip://{ZCTA_SHAPEFILE_LOCAL.resolve()}\")"
   ]
  },
  {
   "cell_type": "code",
   "execution_count": 17,
   "id": "technological-sussex",
   "metadata": {},
   "outputs": [],
   "source": [
    "# Fix CRS to RI state plane (ft)\n",
    "tract_gdf = tract_gdf.to_crs(epsg=3438)\n",
    "zcta_gdf = zcta_gdf.to_crs(epsg=3438)\n",
    "precinct_df = precinct_df.to_crs(epsg=3438)"
   ]
  },
  {
   "cell_type": "code",
   "execution_count": 18,
   "id": "eligible-philadelphia",
   "metadata": {},
   "outputs": [],
   "source": [
    "merged_tract_precinct = gpd.overlay(\n",
    "    tract_gdf[[\"GEOID10\", \"geometry\"]].rename(columns={\"GEOID10\": \"geoid10\"}),\n",
    "    precinct_df,\n",
    "    how=\"intersection\",\n",
    ")\n",
    "\n",
    "merged_zcta_precinct = gpd.overlay(\n",
    "    zcta_gdf[[\"GEOID10\", \"geometry\"]].rename(columns={\"GEOID10\": \"geoid10\"}),\n",
    "    precinct_df,\n",
    "    how=\"intersection\",\n",
    ")"
   ]
  },
  {
   "cell_type": "code",
   "execution_count": 19,
   "id": "operational-lotus",
   "metadata": {},
   "outputs": [],
   "source": [
    "merged_tract_precinct[\"geo_area\"] = merged_tract_precinct.area\n",
    "\n",
    "merged_tract_precinct[\"total_precinct_area\"] = merged_tract_precinct.groupby(\n",
    "    \"precinct_name\"\n",
    ")[\"geo_area\"].transform(\"sum\")\n",
    "\n",
    "merged_tract_precinct[\"prop_precinct_area\"] = (\n",
    "    merged_tract_precinct[\"geo_area\"] / merged_tract_precinct[\"total_precinct_area\"]\n",
    ")\n",
    "\n",
    "# Assign precinct voting data proportionally to _tract_\n",
    "merged_tract_precinct[\"dem_local\"] = (\n",
    "    merged_tract_precinct[\"dem_total\"] * merged_tract_precinct[\"prop_precinct_area\"]\n",
    ")\n",
    "merged_tract_precinct[\"rep_local\"] = (\n",
    "    merged_tract_precinct[\"rep_total\"] * merged_tract_precinct[\"prop_precinct_area\"]\n",
    ")\n",
    "merged_tract_precinct[\"local\"] = (\n",
    "    merged_tract_precinct[\"total\"] * merged_tract_precinct[\"prop_precinct_area\"]\n",
    ")"
   ]
  },
  {
   "cell_type": "code",
   "execution_count": 20,
   "id": "1ef8b900",
   "metadata": {},
   "outputs": [],
   "source": [
    "merged_zcta_precinct[\"geo_area\"] = merged_zcta_precinct.area\n",
    "\n",
    "merged_zcta_precinct[\"total_precinct_area\"] = merged_zcta_precinct.groupby(\n",
    "    \"precinct_name\"\n",
    ")[\"geo_area\"].transform(\"sum\")\n",
    "\n",
    "merged_zcta_precinct[\"prop_precinct_area\"] = (\n",
    "    merged_zcta_precinct[\"geo_area\"] / merged_zcta_precinct[\"total_precinct_area\"]\n",
    ")\n",
    "\n",
    "# Assign precinct voting data proportionally to _zcta_\n",
    "merged_zcta_precinct[\"dem_local\"] = (\n",
    "    merged_zcta_precinct[\"dem_total\"] * merged_zcta_precinct[\"prop_precinct_area\"]\n",
    ")\n",
    "merged_zcta_precinct[\"rep_local\"] = (\n",
    "    merged_zcta_precinct[\"rep_total\"] * merged_zcta_precinct[\"prop_precinct_area\"]\n",
    ")\n",
    "merged_zcta_precinct[\"local\"] = (\n",
    "    merged_zcta_precinct[\"total\"] * merged_zcta_precinct[\"prop_precinct_area\"]\n",
    ")"
   ]
  },
  {
   "cell_type": "code",
   "execution_count": 21,
   "id": "irish-carbon",
   "metadata": {},
   "outputs": [],
   "source": [
    "# Make sure assignments are correct\n",
    "assert (\n",
    "    merged_tract_precinct.groupby(\"precinct_name\")[\"local\"]\n",
    "    .sum()\n",
    "    .round()\n",
    "    .sort_index()\n",
    "    .values\n",
    "    == merged_tract_precinct.drop_duplicates(\"precinct_name\")\n",
    "    .sort_values(by=\"precinct_name\")[\"total\"]\n",
    "    .values\n",
    ").all()\n",
    "\n",
    "assert (\n",
    "    merged_zcta_precinct.groupby(\"precinct_name\")[\"local\"]\n",
    "    .sum()\n",
    "    .round()\n",
    "    .sort_index()\n",
    "    .values\n",
    "    == merged_zcta_precinct.drop_duplicates(\"precinct_name\")\n",
    "    .sort_values(by=\"precinct_name\")[\"total\"]\n",
    "    .values\n",
    ").all()"
   ]
  },
  {
   "cell_type": "markdown",
   "id": "overall-corrections",
   "metadata": {},
   "source": [
    "### Open TRACT/ZIP File"
   ]
  },
  {
   "cell_type": "code",
   "execution_count": 22,
   "id": "unlikely-afternoon",
   "metadata": {},
   "outputs": [],
   "source": [
    "# You can download this file at https://www.huduser.gov/portal/datasets/usps_crosswalk.html\n",
    "# Look for TRACT-ZIP (This was 1st Quarter 2021)\n",
    "\n",
    "tract_zip_df = pd.read_excel(TRACT_ZIP_FILE)\n",
    "tract_zip_df[\"zipcode\"] = tract_zip_df[\"ZIP\"].apply(lambda x: f\"{x:05d}\")\n",
    "tract_zip_df[\"geoid10\"] = tract_zip_df[\"TRACT\"].apply(lambda x: f\"{x:011d}\")"
   ]
  },
  {
   "cell_type": "code",
   "execution_count": 23,
   "id": "plastic-architecture",
   "metadata": {},
   "outputs": [],
   "source": [
    "# Assign each vote total to the tract based on the residential ratio\n",
    "hold = tract_zip_df[[\"RES_RATIO\", \"zipcode\", \"geoid10\"]].merge(\n",
    "    merged_tract_precinct[[\"dem_local\", \"rep_local\", \"local\", \"geoid10\"]], on=\"geoid10\"\n",
    ")\n",
    "\n",
    "hold[\"dem_local\"] = hold[\"dem_local\"] * hold[\"RES_RATIO\"]\n",
    "hold[\"rep_local\"] = hold[\"rep_local\"] * hold[\"RES_RATIO\"]\n",
    "hold[\"local\"] = hold[\"local\"] * hold[\"RES_RATIO\"]\n",
    "\n",
    "final_df = hold.groupby(\"zipcode\")[[\"dem_local\", \"rep_local\", \"local\"]].sum()"
   ]
  },
  {
   "cell_type": "markdown",
   "id": "spectacular-pride",
   "metadata": {},
   "source": [
    "### Pull Census data for zipcode based file"
   ]
  },
  {
   "cell_type": "code",
   "execution_count": 24,
   "id": "forward-pleasure",
   "metadata": {},
   "outputs": [],
   "source": [
    "c = Census(os.environ.get(\"CENSUS_API_KEY\"))"
   ]
  },
  {
   "cell_type": "code",
   "execution_count": 25,
   "id": "cathedral-atlantic",
   "metadata": {},
   "outputs": [],
   "source": [
    "census_df = pd.DataFrame(\n",
    "    c.acs5.state_county_tract(\n",
    "        [\n",
    "            \"B01001_001E\",  # Total population\n",
    "            \"B01001B_001E\",  # Black population\n",
    "            \"B01001I_001E\",  # Hispanic population\n",
    "            \"B02009_001E\",  # Any black population\n",
    "        ],\n",
    "        \"44\",\n",
    "        \"*\",\n",
    "        \"*\",\n",
    "    )\n",
    ")"
   ]
  },
  {
   "cell_type": "code",
   "execution_count": 26,
   "id": "needed-eleven",
   "metadata": {},
   "outputs": [],
   "source": [
    "census_df[\"geoid10\"] = census_df[\"state\"] + census_df[\"county\"] + census_df[\"tract\"]\n",
    "census_df = census_df.drop(columns=[\"state\", \"county\", \"tract\"])"
   ]
  },
  {
   "cell_type": "code",
   "execution_count": 27,
   "id": "precise-booth",
   "metadata": {},
   "outputs": [],
   "source": [
    "census_df.rename(\n",
    "    columns={\n",
    "        \"B01001_001E\": \"total_population\",\n",
    "        \"B01001B_001E\": \"black_population\",\n",
    "        \"B01001I_001E\": \"hispanic_population\",\n",
    "        \"B02009_001E\": \"any_black_population\",\n",
    "    },\n",
    "    inplace=True,\n",
    ")"
   ]
  },
  {
   "cell_type": "code",
   "execution_count": 28,
   "id": "shared-chick",
   "metadata": {},
   "outputs": [
    {
     "data": {
      "text/html": [
       "<div>\n",
       "<style scoped>\n",
       "    .dataframe tbody tr th:only-of-type {\n",
       "        vertical-align: middle;\n",
       "    }\n",
       "\n",
       "    .dataframe tbody tr th {\n",
       "        vertical-align: top;\n",
       "    }\n",
       "\n",
       "    .dataframe thead th {\n",
       "        text-align: right;\n",
       "    }\n",
       "</style>\n",
       "<table border=\"1\" class=\"dataframe\">\n",
       "  <thead>\n",
       "    <tr style=\"text-align: right;\">\n",
       "      <th></th>\n",
       "      <th>total_population</th>\n",
       "      <th>black_population</th>\n",
       "      <th>hispanic_population</th>\n",
       "      <th>any_black_population</th>\n",
       "      <th>geoid10</th>\n",
       "    </tr>\n",
       "  </thead>\n",
       "  <tbody>\n",
       "    <tr>\n",
       "      <th>0</th>\n",
       "      <td>4932.0</td>\n",
       "      <td>0.0</td>\n",
       "      <td>63.0</td>\n",
       "      <td>15.0</td>\n",
       "      <td>44007013201</td>\n",
       "    </tr>\n",
       "    <tr>\n",
       "      <th>1</th>\n",
       "      <td>5176.0</td>\n",
       "      <td>890.0</td>\n",
       "      <td>2024.0</td>\n",
       "      <td>1048.0</td>\n",
       "      <td>44007000101</td>\n",
       "    </tr>\n",
       "    <tr>\n",
       "      <th>2</th>\n",
       "      <td>7773.0</td>\n",
       "      <td>425.0</td>\n",
       "      <td>6116.0</td>\n",
       "      <td>532.0</td>\n",
       "      <td>44007001600</td>\n",
       "    </tr>\n",
       "    <tr>\n",
       "      <th>3</th>\n",
       "      <td>4979.0</td>\n",
       "      <td>941.0</td>\n",
       "      <td>2990.0</td>\n",
       "      <td>1176.0</td>\n",
       "      <td>44007002200</td>\n",
       "    </tr>\n",
       "    <tr>\n",
       "      <th>4</th>\n",
       "      <td>3076.0</td>\n",
       "      <td>370.0</td>\n",
       "      <td>1107.0</td>\n",
       "      <td>533.0</td>\n",
       "      <td>44007002500</td>\n",
       "    </tr>\n",
       "    <tr>\n",
       "      <th>...</th>\n",
       "      <td>...</td>\n",
       "      <td>...</td>\n",
       "      <td>...</td>\n",
       "      <td>...</td>\n",
       "      <td>...</td>\n",
       "    </tr>\n",
       "    <tr>\n",
       "      <th>239</th>\n",
       "      <td>5084.0</td>\n",
       "      <td>13.0</td>\n",
       "      <td>135.0</td>\n",
       "      <td>13.0</td>\n",
       "      <td>44007013102</td>\n",
       "    </tr>\n",
       "    <tr>\n",
       "      <th>240</th>\n",
       "      <td>6394.0</td>\n",
       "      <td>391.0</td>\n",
       "      <td>599.0</td>\n",
       "      <td>705.0</td>\n",
       "      <td>44007010400</td>\n",
       "    </tr>\n",
       "    <tr>\n",
       "      <th>241</th>\n",
       "      <td>5111.0</td>\n",
       "      <td>457.0</td>\n",
       "      <td>105.0</td>\n",
       "      <td>590.0</td>\n",
       "      <td>44007010502</td>\n",
       "    </tr>\n",
       "    <tr>\n",
       "      <th>242</th>\n",
       "      <td>2376.0</td>\n",
       "      <td>8.0</td>\n",
       "      <td>42.0</td>\n",
       "      <td>52.0</td>\n",
       "      <td>44007010701</td>\n",
       "    </tr>\n",
       "    <tr>\n",
       "      <th>243</th>\n",
       "      <td>2174.0</td>\n",
       "      <td>0.0</td>\n",
       "      <td>82.0</td>\n",
       "      <td>13.0</td>\n",
       "      <td>44007012802</td>\n",
       "    </tr>\n",
       "  </tbody>\n",
       "</table>\n",
       "<p>244 rows × 5 columns</p>\n",
       "</div>"
      ],
      "text/plain": [
       "     total_population  black_population  hispanic_population  \\\n",
       "0              4932.0               0.0                 63.0   \n",
       "1              5176.0             890.0               2024.0   \n",
       "2              7773.0             425.0               6116.0   \n",
       "3              4979.0             941.0               2990.0   \n",
       "4              3076.0             370.0               1107.0   \n",
       "..                ...               ...                  ...   \n",
       "239            5084.0              13.0                135.0   \n",
       "240            6394.0             391.0                599.0   \n",
       "241            5111.0             457.0                105.0   \n",
       "242            2376.0               8.0                 42.0   \n",
       "243            2174.0               0.0                 82.0   \n",
       "\n",
       "     any_black_population      geoid10  \n",
       "0                    15.0  44007013201  \n",
       "1                  1048.0  44007000101  \n",
       "2                   532.0  44007001600  \n",
       "3                  1176.0  44007002200  \n",
       "4                   533.0  44007002500  \n",
       "..                    ...          ...  \n",
       "239                  13.0  44007013102  \n",
       "240                 705.0  44007010400  \n",
       "241                 590.0  44007010502  \n",
       "242                  52.0  44007010701  \n",
       "243                  13.0  44007012802  \n",
       "\n",
       "[244 rows x 5 columns]"
      ]
     },
     "execution_count": 28,
     "metadata": {},
     "output_type": "execute_result"
    }
   ],
   "source": [
    "census_df"
   ]
  },
  {
   "cell_type": "code",
   "execution_count": 29,
   "id": "offensive-idaho",
   "metadata": {},
   "outputs": [],
   "source": [
    "hold = tract_zip_df[[\"RES_RATIO\", \"zipcode\", \"geoid10\"]].merge(\n",
    "    census_df[\n",
    "        [\n",
    "            \"total_population\",\n",
    "            \"black_population\",\n",
    "            \"hispanic_population\",\n",
    "            \"any_black_population\",\n",
    "            \"geoid10\",\n",
    "        ]\n",
    "    ],\n",
    "    on=\"geoid10\",\n",
    ")\n",
    "\n",
    "hold[\"total_population\"] = hold[\"total_population\"] * hold[\"RES_RATIO\"]\n",
    "hold[\"black_population\"] = hold[\"black_population\"] * hold[\"RES_RATIO\"]\n",
    "hold[\"hispanic_population\"] = hold[\"hispanic_population\"] * hold[\"RES_RATIO\"]"
   ]
  },
  {
   "cell_type": "code",
   "execution_count": 30,
   "id": "worst-friend",
   "metadata": {},
   "outputs": [],
   "source": [
    "final_df.join(\n",
    "    hold.groupby(\"zipcode\")[\n",
    "        [\n",
    "            \"total_population\",\n",
    "            \"black_population\",\n",
    "            \"hispanic_population\",\n",
    "            \"any_black_population\",\n",
    "        ]\n",
    "    ].sum()\n",
    ").rename(\n",
    "    columns={\n",
    "        \"dem_local\": \"dem_vote\",\n",
    "        \"rep_local\": \"gop_vote\",\n",
    "        \"local\": \"total_vote\",\n",
    "    }\n",
    ").to_csv(\n",
    "    DATA_DIR / \"combined_demo_data_by_zipcode.csv\", index=True\n",
    ")"
   ]
  },
  {
   "cell_type": "code",
   "execution_count": null,
   "id": "consolidated-approval",
   "metadata": {},
   "outputs": [],
   "source": []
  },
  {
   "cell_type": "markdown",
   "id": "7e09eed6",
   "metadata": {},
   "source": [
    "### Pull Census data for ZCTA based file"
   ]
  },
  {
   "cell_type": "code",
   "execution_count": 31,
   "id": "409c4264",
   "metadata": {},
   "outputs": [],
   "source": [
    "census_df = pd.DataFrame(\n",
    "    c.acs5.zipcode(\n",
    "        [\n",
    "            \"B01001_001E\",  # Total population\n",
    "            \"B01001B_001E\",  # Black population\n",
    "            \"B01001I_001E\",  # Hispanic population\n",
    "            \"B02009_001E\",  # Any black population\n",
    "        ],\n",
    "        \"*\",\n",
    "    )\n",
    ")"
   ]
  },
  {
   "cell_type": "code",
   "execution_count": 32,
   "id": "51de5dd0",
   "metadata": {},
   "outputs": [],
   "source": [
    "census_df = census_df.rename(\n",
    "    columns={\n",
    "        \"B01001_001E\": \"total_population\",\n",
    "        \"B01001B_001E\": \"black_population\",\n",
    "        \"B01001I_001E\": \"hispanic_population\",\n",
    "        \"B02009_001E\": \"any_black_population\",\n",
    "        \"zip code tabulation area\": \"zcta\",\n",
    "    }\n",
    ")"
   ]
  },
  {
   "cell_type": "code",
   "execution_count": 33,
   "id": "337fbf40",
   "metadata": {},
   "outputs": [],
   "source": [
    "merged_zcta_precinct[\"zcta\"] = merged_zcta_precinct[\"geoid10\"].str[2:]"
   ]
  },
  {
   "cell_type": "code",
   "execution_count": 34,
   "id": "d52455be",
   "metadata": {},
   "outputs": [],
   "source": [
    "merged_zcta_precinct[[\"zcta\", \"dem_local\", \"rep_local\", \"local\"]].groupby(\n",
    "    \"zcta\"\n",
    ").sum().rename(\n",
    "    columns={\n",
    "        \"dem_local\": \"dem_vote\",\n",
    "        \"rep_local\": \"gop_vote\",\n",
    "        \"local\": \"total_vote\",\n",
    "    }\n",
    ").merge(\n",
    "    census_df, left_index=True, right_on=\"zcta\"\n",
    ").to_csv(\n",
    "    DATA_DIR / \"combined_demo_data_by_zcta.csv\", index=True\n",
    ")"
   ]
  }
 ],
 "metadata": {
  "kernelspec": {
   "display_name": "Python 3",
   "language": "python",
   "name": "python3"
  },
  "language_info": {
   "codemirror_mode": {
    "name": "ipython",
    "version": 3
   },
   "file_extension": ".py",
   "mimetype": "text/x-python",
   "name": "python",
   "nbconvert_exporter": "python",
   "pygments_lexer": "ipython3",
   "version": "3.8.6"
  }
 },
 "nbformat": 4,
 "nbformat_minor": 5
}
