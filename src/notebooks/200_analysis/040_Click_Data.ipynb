{
 "cells": [
  {
   "cell_type": "code",
   "execution_count": 1,
   "id": "49dd97b3",
   "metadata": {},
   "outputs": [],
   "source": [
    "import re\n",
    "from pathlib import Path\n",
    "\n",
    "import pandas as pd\n",
    "from scipy import stats as st"
   ]
  },
  {
   "cell_type": "code",
   "execution_count": 2,
   "id": "fb002bf1",
   "metadata": {},
   "outputs": [],
   "source": [
    "INPUT_DATA_DIR = Path.cwd() / \"..\" / \"..\" / \"..\" / \"data\" / \"clickreports\" / \"input\"\n",
    "OUTPUT_DATA_DIR = Path.cwd() / \"..\" / \"..\" / \"..\" / \"data\" / \"clickreports\" / \"output\"\n",
    "\n",
    "VAX_DATA_DIR = Path.cwd() / \"..\" / \"..\" / \"..\" / \"data\" / \"unvax_data\" / \"output\"\n",
    "\n",
    "INPUT_DATA_DIR.mkdir(parents=True, exist_ok=True)\n",
    "OUTPUT_DATA_DIR.mkdir(parents=True, exist_ok=True)"
   ]
  },
  {
   "cell_type": "code",
   "execution_count": 3,
   "id": "5f310482",
   "metadata": {},
   "outputs": [
    {
     "name": "stderr",
     "output_type": "stream",
     "text": [
      "/Users/kwilso14/repo/brown/covid/text-messages/.venv/lib/python3.8/site-packages/openpyxl/styles/stylesheet.py:221: UserWarning: Workbook contains no default style, apply openpyxl's default\n",
      "  warn(\"Workbook contains no default style, apply openpyxl's default\")\n"
     ]
    }
   ],
   "source": [
    "dfs = []\n",
    "for filename in INPUT_DATA_DIR.glob(\"*.xlsx\"):\n",
    "    df = pd.read_excel(filename, sheet_name=\"Dataset1\")\n",
    "    date_clicked = re.search(r\"(\\d{8})\", filename.stem).groups()[0]\n",
    "    df[\"date_clicked\"] = pd.to_datetime(date_clicked, format=\"%Y%m%d\")\n",
    "    dfs.append(df)\n",
    "\n",
    "df = pd.concat(dfs)\n",
    "\n",
    "# Only consider those clicks before 2021-06-15, which we removed from the study\n",
    "df = df[df[\"date_clicked\"] < \"2021-06-15\"]"
   ]
  },
  {
   "cell_type": "code",
   "execution_count": 4,
   "id": "7ea623c6",
   "metadata": {},
   "outputs": [],
   "source": [
    "# Extract the short link\n",
    "df[\"short_page\"] = df[\"Page\"].str.extract(r\"/(\\w*)/\")"
   ]
  },
  {
   "cell_type": "code",
   "execution_count": 5,
   "id": "8764702a",
   "metadata": {},
   "outputs": [],
   "source": [
    "# Convert short link to messages\n",
    "\n",
    "original_pages = \"\"\"\n",
    "myvaccine\n",
    "my_vaccine\n",
    "vaccinelocator\n",
    "vaccine_locator\n",
    "findavaccine\n",
    "find_a_vaccine\n",
    "find_vaccines\n",
    "locatevaccine\n",
    "\"\"\"\n",
    "\n",
    "later_pages = \"\"\"\n",
    "myvaccine\n",
    "vaccineinfo\n",
    "vaccinelocator\n",
    "infovaccine\n",
    "findavaccine\n",
    "vaccinehelp\n",
    "helpvaccine\n",
    "locatevaccine\n",
    "\"\"\"\n",
    "\n",
    "spanish_pages = \"\"\"\n",
    "mivacuna\n",
    "vacunainfo\n",
    "localizadordevacuna\n",
    "infovacuna\n",
    "encontrarunavacuna\n",
    "vacunaayuda\n",
    "ayudavacuna\n",
    "localizarvacuna\n",
    "\"\"\"\n",
    "\n",
    "name_to_message = {}\n",
    "for pages in [original_pages, later_pages, spanish_pages]:\n",
    "    new_names = {\n",
    "        name: f\"message_{i}\" for i, name in enumerate(pages.strip().split(), 1)\n",
    "    }\n",
    "    for name, new_message in new_names.items():\n",
    "        # Verify we're not overwriting data\n",
    "        if name in name_to_message:\n",
    "            assert name_to_message[name] == new_message\n",
    "\n",
    "    name_to_message.update(new_names)\n",
    "\n",
    "df[\"message\"] = df[\"short_page\"].map(name_to_message)"
   ]
  },
  {
   "cell_type": "code",
   "execution_count": 6,
   "id": "0c6301a9",
   "metadata": {},
   "outputs": [],
   "source": [
    "# Final counts of clicks\n",
    "click_counts = df.groupby(\"message\")[\"Sessions\"].sum().rename(\"num_clicks\")"
   ]
  },
  {
   "cell_type": "code",
   "execution_count": 7,
   "id": "ab972e8a",
   "metadata": {},
   "outputs": [],
   "source": [
    "# Read in main data\n",
    "vax_df = pd.read_csv(VAX_DATA_DIR / \"final_counts_by_group.csv\")\n",
    "\n",
    "# Remove last (dropped) day of study\n",
    "vax_df = vax_df[vax_df[\"date_sent\"] < \"2021-06-15\"]\n",
    "\n",
    "# Remove control (message_0)\n",
    "vax_df = vax_df[vax_df[\"assigned_message\"] != \"message_0\"]"
   ]
  },
  {
   "cell_type": "code",
   "execution_count": 8,
   "id": "ba0f034a",
   "metadata": {},
   "outputs": [],
   "source": [
    "assigned_to_be_sent = (\n",
    "    vax_df.groupby(\"assigned_message\")[\"count\"].sum().rename(\"num_messages\")\n",
    ")\n",
    "got_vaccinated = (\n",
    "    vax_df[~vax_df[\"did_not_get_vaccinated\"]]\n",
    "    .groupby(\"assigned_message\")[\"count\"]\n",
    "    .sum()\n",
    "    .rename(\"num_vaccinated\")\n",
    ")"
   ]
  },
  {
   "cell_type": "code",
   "execution_count": 9,
   "id": "27bbbd18",
   "metadata": {},
   "outputs": [],
   "source": [
    "final_df = pd.concat([click_counts, assigned_to_be_sent, got_vaccinated], axis=1)"
   ]
  },
  {
   "cell_type": "code",
   "execution_count": 10,
   "id": "e75895c5",
   "metadata": {},
   "outputs": [],
   "source": [
    "final_df[\"pct_clicks\"] = final_df[\"num_clicks\"] / final_df[\"num_messages\"]\n",
    "final_df[\"pct_vaccinated\"] = final_df[\"num_vaccinated\"] / final_df[\"num_messages\"]"
   ]
  },
  {
   "cell_type": "code",
   "execution_count": 11,
   "id": "27a2d84e",
   "metadata": {},
   "outputs": [
    {
     "data": {
      "text/html": [
       "<div>\n",
       "<style scoped>\n",
       "    .dataframe tbody tr th:only-of-type {\n",
       "        vertical-align: middle;\n",
       "    }\n",
       "\n",
       "    .dataframe tbody tr th {\n",
       "        vertical-align: top;\n",
       "    }\n",
       "\n",
       "    .dataframe thead th {\n",
       "        text-align: right;\n",
       "    }\n",
       "</style>\n",
       "<table border=\"1\" class=\"dataframe\">\n",
       "  <thead>\n",
       "    <tr style=\"text-align: right;\">\n",
       "      <th></th>\n",
       "      <th>num_clicks</th>\n",
       "      <th>num_messages</th>\n",
       "      <th>num_vaccinated</th>\n",
       "      <th>pct_clicks</th>\n",
       "      <th>pct_vaccinated</th>\n",
       "    </tr>\n",
       "  </thead>\n",
       "  <tbody>\n",
       "    <tr>\n",
       "      <th>message_1</th>\n",
       "      <td>365</td>\n",
       "      <td>10491</td>\n",
       "      <td>1158</td>\n",
       "      <td>0.034792</td>\n",
       "      <td>0.110380</td>\n",
       "    </tr>\n",
       "    <tr>\n",
       "      <th>message_2</th>\n",
       "      <td>224</td>\n",
       "      <td>12440</td>\n",
       "      <td>1443</td>\n",
       "      <td>0.018006</td>\n",
       "      <td>0.115997</td>\n",
       "    </tr>\n",
       "    <tr>\n",
       "      <th>message_3</th>\n",
       "      <td>277</td>\n",
       "      <td>11962</td>\n",
       "      <td>1358</td>\n",
       "      <td>0.023157</td>\n",
       "      <td>0.113526</td>\n",
       "    </tr>\n",
       "    <tr>\n",
       "      <th>message_4</th>\n",
       "      <td>201</td>\n",
       "      <td>10110</td>\n",
       "      <td>1133</td>\n",
       "      <td>0.019881</td>\n",
       "      <td>0.112067</td>\n",
       "    </tr>\n",
       "    <tr>\n",
       "      <th>message_5</th>\n",
       "      <td>309</td>\n",
       "      <td>15243</td>\n",
       "      <td>1786</td>\n",
       "      <td>0.020272</td>\n",
       "      <td>0.117169</td>\n",
       "    </tr>\n",
       "    <tr>\n",
       "      <th>message_6</th>\n",
       "      <td>1026</td>\n",
       "      <td>47058</td>\n",
       "      <td>4146</td>\n",
       "      <td>0.021803</td>\n",
       "      <td>0.088104</td>\n",
       "    </tr>\n",
       "    <tr>\n",
       "      <th>message_7</th>\n",
       "      <td>261</td>\n",
       "      <td>12363</td>\n",
       "      <td>1375</td>\n",
       "      <td>0.021111</td>\n",
       "      <td>0.111219</td>\n",
       "    </tr>\n",
       "    <tr>\n",
       "      <th>message_8</th>\n",
       "      <td>207</td>\n",
       "      <td>11434</td>\n",
       "      <td>1290</td>\n",
       "      <td>0.018104</td>\n",
       "      <td>0.112821</td>\n",
       "    </tr>\n",
       "  </tbody>\n",
       "</table>\n",
       "</div>"
      ],
      "text/plain": [
       "           num_clicks  num_messages  num_vaccinated  pct_clicks  \\\n",
       "message_1         365         10491            1158    0.034792   \n",
       "message_2         224         12440            1443    0.018006   \n",
       "message_3         277         11962            1358    0.023157   \n",
       "message_4         201         10110            1133    0.019881   \n",
       "message_5         309         15243            1786    0.020272   \n",
       "message_6        1026         47058            4146    0.021803   \n",
       "message_7         261         12363            1375    0.021111   \n",
       "message_8         207         11434            1290    0.018104   \n",
       "\n",
       "           pct_vaccinated  \n",
       "message_1        0.110380  \n",
       "message_2        0.115997  \n",
       "message_3        0.113526  \n",
       "message_4        0.112067  \n",
       "message_5        0.117169  \n",
       "message_6        0.088104  \n",
       "message_7        0.111219  \n",
       "message_8        0.112821  "
      ]
     },
     "execution_count": 11,
     "metadata": {},
     "output_type": "execute_result"
    }
   ],
   "source": [
    "final_df"
   ]
  },
  {
   "cell_type": "code",
   "execution_count": 12,
   "id": "642b9e73",
   "metadata": {},
   "outputs": [
    {
     "data": {
      "text/plain": [
       "LinregressResult(slope=-0.19445288361547405, intercept=0.11446576556312202, rvalue=-0.11413109017204728, pvalue=0.7878552700422851, stderr=0.6910153166873546, intercept_stderr=0.015692929963467852)"
      ]
     },
     "execution_count": 12,
     "metadata": {},
     "output_type": "execute_result"
    }
   ],
   "source": [
    "st.linregress(final_df[\"pct_clicks\"], final_df[\"pct_vaccinated\"])"
   ]
  },
  {
   "cell_type": "code",
   "execution_count": null,
   "id": "1ac9b045",
   "metadata": {},
   "outputs": [],
   "source": []
  }
 ],
 "metadata": {
  "kernelspec": {
   "display_name": "Python 3",
   "language": "python",
   "name": "python3"
  },
  "language_info": {
   "codemirror_mode": {
    "name": "ipython",
    "version": 3
   },
   "file_extension": ".py",
   "mimetype": "text/x-python",
   "name": "python",
   "nbconvert_exporter": "python",
   "pygments_lexer": "ipython3",
   "version": "3.8.6"
  }
 },
 "nbformat": 4,
 "nbformat_minor": 5
}
