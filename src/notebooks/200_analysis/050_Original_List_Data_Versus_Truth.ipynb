{
 "cells": [
  {
   "cell_type": "code",
   "execution_count": 1,
   "id": "67f96ef2",
   "metadata": {},
   "outputs": [],
   "source": [
    "import re\n",
    "from pathlib import Path\n",
    "\n",
    "import pandas as pd\n",
    "\n",
    "from thompson import unvaccinated"
   ]
  },
  {
   "cell_type": "code",
   "execution_count": 2,
   "id": "df613fe6",
   "metadata": {},
   "outputs": [],
   "source": [
    "# Directory containing unvaccinated people data\n",
    "\n",
    "DATA_DIR = Path.cwd() / \"..\" / \"..\" / \"..\" / \"data\" / \"unvax_data\"\n",
    "\n",
    "ORIGINAL_FILES = [\n",
    "    DATA_DIR / \"input\" / \"unvax_contact_list_20210521_uniq_id.csv\",\n",
    "    DATA_DIR / \"input\" / \"unvax_contact_list_20210601_uniq_id.csv\",\n",
    "    DATA_DIR / \"input\" / \"unvax_contact_list_20210608_uniq_id.csv\",\n",
    "    DATA_DIR / \"input\" / \"unvax_contact_list_20210622_uniq_id_updated.csv\",\n",
    "]\n",
    "\n",
    "ASSIGNMENT_FILES = [\n",
    "    DATA_DIR / \"output\" / \"full-2021-05-25-for-week.csv\",\n",
    "    DATA_DIR / \"output\" / \"full-2021-06-02-for-week.csv\",\n",
    "    DATA_DIR / \"output\" / \"full-2021-06-09-for-week.csv\",\n",
    "]"
   ]
  },
  {
   "cell_type": "code",
   "execution_count": 3,
   "id": "6cf8a8ec",
   "metadata": {},
   "outputs": [],
   "source": [
    "# Read original (demographic) data in\n",
    "dfs = []\n",
    "for data_file in ORIGINAL_FILES:\n",
    "    df = unvaccinated.read_unvaccinated_csv(data_file)\n",
    "    the_date = pd.to_datetime(\n",
    "        re.search(r\"(\\d{8})\", data_file.stem).groups()[0],\n",
    "        format=\"%Y%m%d\",\n",
    "    )\n",
    "\n",
    "    df[\"record_date\"] = the_date\n",
    "    dfs.append(df)\n",
    "\n",
    "raw_df = pd.concat(dfs)"
   ]
  },
  {
   "cell_type": "code",
   "execution_count": null,
   "id": "6e2d63c0",
   "metadata": {},
   "outputs": [],
   "source": []
  }
 ],
 "metadata": {
  "kernelspec": {
   "display_name": "Python 3",
   "language": "python",
   "name": "python3"
  },
  "language_info": {
   "codemirror_mode": {
    "name": "ipython",
    "version": 3
   },
   "file_extension": ".py",
   "mimetype": "text/x-python",
   "name": "python",
   "nbconvert_exporter": "python",
   "pygments_lexer": "ipython3",
   "version": "3.8.6"
  }
 },
 "nbformat": 4,
 "nbformat_minor": 5
}
