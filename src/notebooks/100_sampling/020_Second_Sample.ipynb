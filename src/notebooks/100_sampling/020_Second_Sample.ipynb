{
 "cells": [
  {
   "cell_type": "code",
   "execution_count": 1,
   "id": "5a4d4270",
   "metadata": {},
   "outputs": [],
   "source": [
    "import hashlib\n",
    "from datetime import date, timedelta\n",
    "from pathlib import Path\n",
    "from typing import List\n",
    "\n",
    "import numpy as np\n",
    "import pandas as pd\n",
    "from scipy import stats as st\n",
    "\n",
    "from thompson import codered, model, unvaccinated"
   ]
  },
  {
   "cell_type": "code",
   "execution_count": 2,
   "id": "91ba9065",
   "metadata": {},
   "outputs": [],
   "source": [
    "def random_orderer(unique_id: str, password: str = \"textmessages\") -> str:\n",
    "    \"\"\"\n",
    "    For consistency, use this function to create a random order of unique ids\n",
    "    so that they appear in the same order every time\n",
    "    \"\"\"\n",
    "    sha = hashlib.sha256()\n",
    "    sha.update(password.encode(\"utf8\"))\n",
    "    sha.update(unique_id.encode(\"utf8\"))\n",
    "    return sha.hexdigest()"
   ]
  },
  {
   "cell_type": "code",
   "execution_count": 3,
   "id": "8e68dcae",
   "metadata": {},
   "outputs": [],
   "source": [
    "# Directory containing unvaccinated people data\n",
    "\n",
    "DATA_DIR = Path.cwd() / \"..\" / \"..\" / \"..\" / \"data\" / \"unvax_data\""
   ]
  },
  {
   "cell_type": "code",
   "execution_count": 4,
   "id": "ddd8e4a6",
   "metadata": {},
   "outputs": [],
   "source": [
    "# Settings\n",
    "first_day_to_send = date(2021, 6, 2)\n",
    "num_messages = 9  # Note that one is a control\n",
    "num_days_to_send = 5\n",
    "num_in_first_round = 40_000\n",
    "uniform_probability = 0.25\n",
    "seed = 3924857"
   ]
  },
  {
   "cell_type": "code",
   "execution_count": 5,
   "id": "1a1a4134",
   "metadata": {},
   "outputs": [],
   "source": [
    "# Read data\n",
    "data_file = DATA_DIR / \"input\" / \"unvax_contact_list_20210601_uniq_id.csv\"\n",
    "df = unvaccinated.read_unvaccinated_csv(data_file)"
   ]
  },
  {
   "cell_type": "code",
   "execution_count": 6,
   "id": "21d1fa6a",
   "metadata": {},
   "outputs": [
    {
     "data": {
      "text/plain": [
       "1    148567\n",
       "Name: unique_id, dtype: int64"
      ]
     },
     "execution_count": 6,
     "metadata": {},
     "output_type": "execute_result"
    }
   ],
   "source": [
    "# Make sure unique ids are unique and also get length of dataframe\n",
    "df[\"unique_id\"].value_counts().value_counts()"
   ]
  },
  {
   "cell_type": "code",
   "execution_count": 7,
   "id": "2e15904a",
   "metadata": {},
   "outputs": [
    {
     "data": {
      "text/plain": [
       "English    0.995793\n",
       "Spanish    0.003850\n",
       "Portugu    0.000175\n",
       "Other      0.000141\n",
       "Haitian    0.000020\n",
       "Chinese    0.000013\n",
       "French     0.000007\n",
       "Name: primary_language, dtype: float64"
      ]
     },
     "execution_count": 7,
     "metadata": {},
     "output_type": "execute_result"
    }
   ],
   "source": [
    "# Explore primary language\n",
    "df[\"primary_language\"].value_counts(normalize=True)"
   ]
  },
  {
   "cell_type": "code",
   "execution_count": 8,
   "id": "872e6b59",
   "metadata": {},
   "outputs": [
    {
     "data": {
      "text/plain": [
       "English    0.99615\n",
       "Spanish    0.00385\n",
       "Name: primary_language, dtype: float64"
      ]
     },
     "execution_count": 8,
     "metadata": {},
     "output_type": "execute_result"
    }
   ],
   "source": [
    "# We decided to only send messages in English and Spanish\n",
    "# So change primary language appropriately\n",
    "df[\"primary_language\"] = df[\"primary_language\"].apply(\n",
    "    lambda x: \"Spanish\" if x == \"Spanish\" else \"English\"\n",
    ")\n",
    "\n",
    "df[\"primary_language\"].value_counts(normalize=True)"
   ]
  },
  {
   "cell_type": "code",
   "execution_count": 9,
   "id": "143bc3bb",
   "metadata": {},
   "outputs": [],
   "source": [
    "# Starting in the second week we have Spanish language messages\n",
    "# so do not filter\n",
    "# df = df[df['primary_language'] == 'English']"
   ]
  },
  {
   "cell_type": "markdown",
   "id": "d61b300b",
   "metadata": {},
   "source": [
    "### Determine missing people (i.e., people who were vaccinated)"
   ]
  },
  {
   "cell_type": "code",
   "execution_count": 10,
   "id": "aef8f161",
   "metadata": {},
   "outputs": [],
   "source": [
    "# Read in previous weeks' data\n",
    "old_df = pd.read_csv(DATA_DIR / \"output\" / \"full-2021-05-25-for-week.csv\")"
   ]
  },
  {
   "cell_type": "code",
   "execution_count": 11,
   "id": "47705669",
   "metadata": {},
   "outputs": [],
   "source": [
    "# Look at results from the experiment up to this point\n",
    "merged_df = old_df[[\"ContactId\", \"Groups\"]].merge(\n",
    "    df[[\"unique_id\"]],\n",
    "    left_on=\"ContactId\",\n",
    "    right_on=\"unique_id\",\n",
    "    how=\"left\",\n",
    "    indicator=\"_merge\",\n",
    ")\n",
    "\n",
    "merged_df[\"got_vaccinated\"] = merged_df[\"_merge\"] == \"left_only\"\n",
    "merged_df[\"treatment_assignment\"] = merged_df[\"Groups\"].str[-1].astype(int)\n",
    "\n",
    "successes = merged_df.groupby(\"Groups\")[\"got_vaccinated\"].sum()\n",
    "totals = merged_df.groupby(\"Groups\").size().rename(\"total\")\n",
    "failures = (totals - successes).rename(\"not_vaccinated\")\n",
    "\n",
    "historic_data = pd.concat([successes, failures, totals], axis=1)"
   ]
  },
  {
   "cell_type": "code",
   "execution_count": 12,
   "id": "e5cd9cd5",
   "metadata": {},
   "outputs": [
    {
     "data": {
      "text/html": [
       "<div>\n",
       "<style scoped>\n",
       "    .dataframe tbody tr th:only-of-type {\n",
       "        vertical-align: middle;\n",
       "    }\n",
       "\n",
       "    .dataframe tbody tr th {\n",
       "        vertical-align: top;\n",
       "    }\n",
       "\n",
       "    .dataframe thead th {\n",
       "        text-align: right;\n",
       "    }\n",
       "</style>\n",
       "<table border=\"1\" class=\"dataframe\">\n",
       "  <thead>\n",
       "    <tr style=\"text-align: right;\">\n",
       "      <th></th>\n",
       "      <th>got_vaccinated</th>\n",
       "      <th>not_vaccinated</th>\n",
       "      <th>total</th>\n",
       "    </tr>\n",
       "    <tr>\n",
       "      <th>Groups</th>\n",
       "      <th></th>\n",
       "      <th></th>\n",
       "      <th></th>\n",
       "    </tr>\n",
       "  </thead>\n",
       "  <tbody>\n",
       "    <tr>\n",
       "      <th>message_0</th>\n",
       "      <td>478</td>\n",
       "      <td>3967</td>\n",
       "      <td>4445</td>\n",
       "    </tr>\n",
       "    <tr>\n",
       "      <th>message_1</th>\n",
       "      <td>475</td>\n",
       "      <td>3970</td>\n",
       "      <td>4445</td>\n",
       "    </tr>\n",
       "    <tr>\n",
       "      <th>message_2</th>\n",
       "      <td>486</td>\n",
       "      <td>3959</td>\n",
       "      <td>4445</td>\n",
       "    </tr>\n",
       "    <tr>\n",
       "      <th>message_3</th>\n",
       "      <td>484</td>\n",
       "      <td>3961</td>\n",
       "      <td>4445</td>\n",
       "    </tr>\n",
       "    <tr>\n",
       "      <th>message_4</th>\n",
       "      <td>471</td>\n",
       "      <td>3973</td>\n",
       "      <td>4444</td>\n",
       "    </tr>\n",
       "    <tr>\n",
       "      <th>message_5</th>\n",
       "      <td>493</td>\n",
       "      <td>3951</td>\n",
       "      <td>4444</td>\n",
       "    </tr>\n",
       "    <tr>\n",
       "      <th>message_6</th>\n",
       "      <td>466</td>\n",
       "      <td>3978</td>\n",
       "      <td>4444</td>\n",
       "    </tr>\n",
       "    <tr>\n",
       "      <th>message_7</th>\n",
       "      <td>486</td>\n",
       "      <td>3958</td>\n",
       "      <td>4444</td>\n",
       "    </tr>\n",
       "    <tr>\n",
       "      <th>message_8</th>\n",
       "      <td>480</td>\n",
       "      <td>3964</td>\n",
       "      <td>4444</td>\n",
       "    </tr>\n",
       "  </tbody>\n",
       "</table>\n",
       "</div>"
      ],
      "text/plain": [
       "           got_vaccinated  not_vaccinated  total\n",
       "Groups                                          \n",
       "message_0             478            3967   4445\n",
       "message_1             475            3970   4445\n",
       "message_2             486            3959   4445\n",
       "message_3             484            3961   4445\n",
       "message_4             471            3973   4444\n",
       "message_5             493            3951   4444\n",
       "message_6             466            3978   4444\n",
       "message_7             486            3958   4444\n",
       "message_8             480            3964   4444"
      ]
     },
     "execution_count": 12,
     "metadata": {},
     "output_type": "execute_result"
    }
   ],
   "source": [
    "historic_data"
   ]
  },
  {
   "cell_type": "code",
   "execution_count": 13,
   "id": "20684b26",
   "metadata": {},
   "outputs": [
    {
     "data": {
      "text/plain": [
       "(1.3133485304925052,\n",
       " 0.995390763045943,\n",
       " 8,\n",
       " array([[ 479.948875, 3965.051125],\n",
       "        [ 479.948875, 3965.051125],\n",
       "        [ 479.948875, 3965.051125],\n",
       "        [ 479.948875, 3965.051125],\n",
       "        [ 479.8409  , 3964.1591  ],\n",
       "        [ 479.8409  , 3964.1591  ],\n",
       "        [ 479.8409  , 3964.1591  ],\n",
       "        [ 479.8409  , 3964.1591  ],\n",
       "        [ 479.8409  , 3964.1591  ]]))"
      ]
     },
     "execution_count": 13,
     "metadata": {},
     "output_type": "execute_result"
    }
   ],
   "source": [
    "# Any actual differences?\n",
    "st.chi2_contingency(historic_data[[\"got_vaccinated\", \"not_vaccinated\"]].values)"
   ]
  },
  {
   "cell_type": "code",
   "execution_count": 14,
   "id": "ce4aa46b",
   "metadata": {},
   "outputs": [],
   "source": [
    "# Get assignments for the coming week\n",
    "assignments, is_uniform = model.get_assignments(\n",
    "    num_messages,\n",
    "    merged_df[\"treatment_assignment\"].values,\n",
    "    merged_df[\"got_vaccinated\"].values,\n",
    "    num_in_first_round,\n",
    "    uniform_probability,\n",
    "    seed=seed,\n",
    ")"
   ]
  },
  {
   "cell_type": "code",
   "execution_count": 15,
   "id": "cac37dd8",
   "metadata": {},
   "outputs": [
    {
     "name": "stdout",
     "output_type": "stream",
     "text": [
      "Pool of people for this week: 112886\n"
     ]
    }
   ],
   "source": [
    "# Remove anyone who has already received a message or was explicitly\n",
    "# placed in the control group\n",
    "merged_df = df.merge(\n",
    "    old_df[[\"ContactId\"]],\n",
    "    left_on=\"unique_id\",\n",
    "    right_on=\"ContactId\",\n",
    "    how=\"left\",\n",
    "    indicator=\"_merge\",\n",
    ")\n",
    "\n",
    "df = merged_df[merged_df[\"_merge\"] == \"left_only\"].drop(columns=[\"_merge\"])\n",
    "print(f\"Pool of people for this week: {len(df)}\")"
   ]
  },
  {
   "cell_type": "markdown",
   "id": "7a929a57",
   "metadata": {},
   "source": [
    "### Do randomization"
   ]
  },
  {
   "cell_type": "code",
   "execution_count": 16,
   "id": "83eaf9d2",
   "metadata": {},
   "outputs": [],
   "source": [
    "# We decided to _only_ do one stratum for now\n",
    "df[\"stratum\"] = 0"
   ]
  },
  {
   "cell_type": "code",
   "execution_count": 17,
   "id": "1eadb442",
   "metadata": {},
   "outputs": [],
   "source": [
    "# Shuffle for randomization\n",
    "df[\"random_order\"] = df[\"unique_id\"].apply(random_orderer)\n",
    "df = df.sort_values(\"random_order\")\n",
    "\n",
    "# This is for the first round assignments\n",
    "df = df.iloc[:num_in_first_round].reset_index(drop=True)\n",
    "\n",
    "# Assign the message per stratum\n",
    "df[\"message_num\"] = assignments\n",
    "df[\"is_chosen_from_uniform\"] = is_uniform == 1\n",
    "df[\"day_to_send\"] = df.groupby([\"stratum\", \"message_num\"]).cumcount() % num_days_to_send"
   ]
  },
  {
   "cell_type": "code",
   "execution_count": 18,
   "id": "5e7d883b",
   "metadata": {},
   "outputs": [],
   "source": [
    "day_to_data = {\n",
    "    day: [\n",
    "        codered.CoderedContact(\n",
    "            # Add an x to force Excel _not_ to convert numbers\n",
    "            contact_id=row[\"unique_id\"],\n",
    "            first_name=\"N/A\",\n",
    "            last_name=\"N/A\",\n",
    "            groups=f\"message_{row['message_num']}\",\n",
    "            # This is to be filled in by Zayid\n",
    "            text_number=-1,\n",
    "            tags=row[\"primary_language\"],\n",
    "            preferred_language=row[\"primary_language\"],\n",
    "        )\n",
    "        for _, row in mini_df.iterrows()\n",
    "    ]\n",
    "    for day, mini_df in df.groupby(\"day_to_send\")\n",
    "}"
   ]
  },
  {
   "cell_type": "code",
   "execution_count": 19,
   "id": "3afb8140",
   "metadata": {},
   "outputs": [],
   "source": [
    "# I can never remember the calendar constants....\n",
    "SUNDAY = date(2021, 5, 30).weekday()\n",
    "SATURDAY = date(2021, 5, 29).weekday()"
   ]
  },
  {
   "cell_type": "code",
   "execution_count": 20,
   "id": "70af5330",
   "metadata": {},
   "outputs": [],
   "source": [
    "files: List[Path] = []\n",
    "full_dfs: List[pd.DataFrame] = []\n",
    "\n",
    "weekend_offset = 0\n",
    "for day, data in day_to_data.items():\n",
    "    day_to_send = first_day_to_send + timedelta(days=day + weekend_offset)\n",
    "    while day_to_send.weekday() in [SATURDAY, SUNDAY]:\n",
    "        weekend_offset += 1\n",
    "        day_to_send = first_day_to_send + timedelta(days=day + weekend_offset)\n",
    "\n",
    "    filename = (\n",
    "        DATA_DIR\n",
    "        / \"output\"\n",
    "        / f\"{day_to_send.strftime('%Y-%m-%d')}_text_message_uniq_id.xlsx\"\n",
    "    )\n",
    "\n",
    "    files.append(filename)\n",
    "    codered.make_excel_file(filename, data, drop_message_0=True)\n",
    "\n",
    "    this_df = codered.make_df_from_data(data)\n",
    "    this_df[\"date_sent\"] = day_to_send\n",
    "    tmp_len = len(this_df)\n",
    "    this_df = this_df.merge(\n",
    "        df[[\"unique_id\", \"is_chosen_from_uniform\"]],\n",
    "        left_on=\"ContactId\",\n",
    "        right_on=\"unique_id\",\n",
    "    ).drop(columns=\"unique_id\")\n",
    "    assert len(this_df) == tmp_len\n",
    "    full_dfs.append(this_df)"
   ]
  },
  {
   "cell_type": "markdown",
   "id": "85148cea",
   "metadata": {},
   "source": [
    "### Make sure outputs look reasonable"
   ]
  },
  {
   "cell_type": "code",
   "execution_count": 21,
   "id": "39cdf08e",
   "metadata": {},
   "outputs": [],
   "source": [
    "df = pd.read_excel(files[0])"
   ]
  },
  {
   "cell_type": "code",
   "execution_count": 22,
   "id": "ace509ac",
   "metadata": {},
   "outputs": [
    {
     "data": {
      "text/plain": [
       "message_1     619\n",
       "message_2    1138\n",
       "message_3    1018\n",
       "message_4     486\n",
       "message_5    1714\n",
       "message_6     401\n",
       "message_7    1127\n",
       "message_8     796\n",
       "Name: Groups, dtype: int64"
      ]
     },
     "execution_count": 22,
     "metadata": {},
     "output_type": "execute_result"
    }
   ],
   "source": [
    "# Make sure that there are ~1111 = 40k recipients / 4 days / 9 messages\n",
    "df[\"Groups\"].value_counts().sort_index()"
   ]
  },
  {
   "cell_type": "code",
   "execution_count": 23,
   "id": "5ceabf63",
   "metadata": {},
   "outputs": [
    {
     "data": {
      "text/plain": [
       "1    36483\n",
       "Name: ContactId, dtype: int64"
      ]
     },
     "execution_count": 23,
     "metadata": {},
     "output_type": "execute_result"
    }
   ],
   "source": [
    "# Make sure all of the ContactIds are unique\n",
    "dfs = [pd.read_excel(filename) for filename in files]\n",
    "df = pd.concat(dfs)\n",
    "df[\"ContactId\"].value_counts().value_counts()"
   ]
  },
  {
   "cell_type": "code",
   "execution_count": 24,
   "id": "78ed35f0",
   "metadata": {},
   "outputs": [],
   "source": [
    "# Make sure all the missing ContactIds are message_0\n",
    "full_df = pd.concat(full_dfs)\n",
    "joined = full_df[[\"ContactId\", \"Groups\"]].merge(\n",
    "    df[[\"ContactId\", \"Groups\"]], on=[\"ContactId\"], how=\"left\"\n",
    ")\n",
    "joined[\"Groups_y\"] = joined[\"Groups_y\"].fillna(\"message_0\")\n",
    "assert (joined[\"Groups_x\"] == joined[\"Groups_y\"]).all()"
   ]
  },
  {
   "cell_type": "code",
   "execution_count": 25,
   "id": "7b3f8e5e",
   "metadata": {},
   "outputs": [],
   "source": [
    "# Write out the full_df for record keeping\n",
    "full_df.to_csv(\n",
    "    DATA_DIR / \"output\" / f'full-{first_day_to_send.strftime(\"%Y-%m-%d\")}-for-week.csv',\n",
    "    index=False,\n",
    ")"
   ]
  },
  {
   "cell_type": "code",
   "execution_count": 26,
   "id": "473b56e4",
   "metadata": {},
   "outputs": [
    {
     "data": {
      "text/plain": [
       "English    39709\n",
       "Spanish      291\n",
       "Name: Preferred Language, dtype: int64"
      ]
     },
     "execution_count": 26,
     "metadata": {},
     "output_type": "execute_result"
    }
   ],
   "source": [
    "full_df[\"Preferred Language\"].value_counts()"
   ]
  },
  {
   "cell_type": "code",
   "execution_count": null,
   "id": "5346538a",
   "metadata": {},
   "outputs": [],
   "source": []
  }
 ],
 "metadata": {
  "kernelspec": {
   "display_name": "Python 3",
   "language": "python",
   "name": "python3"
  },
  "language_info": {
   "codemirror_mode": {
    "name": "ipython",
    "version": 3
   },
   "file_extension": ".py",
   "mimetype": "text/x-python",
   "name": "python",
   "nbconvert_exporter": "python",
   "pygments_lexer": "ipython3",
   "version": "3.8.6"
  }
 },
 "nbformat": 4,
 "nbformat_minor": 5
}
