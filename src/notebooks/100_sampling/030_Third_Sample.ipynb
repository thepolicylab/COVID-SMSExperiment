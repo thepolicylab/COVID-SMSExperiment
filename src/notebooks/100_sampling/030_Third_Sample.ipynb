{
 "cells": [
  {
   "cell_type": "code",
   "execution_count": 1,
   "id": "5a4d4270",
   "metadata": {},
   "outputs": [],
   "source": [
    "import hashlib\n",
    "from datetime import date, timedelta\n",
    "from pathlib import Path\n",
    "from typing import List\n",
    "\n",
    "import numpy as np\n",
    "import pandas as pd\n",
    "from scipy import stats as st\n",
    "\n",
    "from thompson import codered, model, unvaccinated"
   ]
  },
  {
   "cell_type": "code",
   "execution_count": 2,
   "id": "91ba9065",
   "metadata": {},
   "outputs": [],
   "source": [
    "def random_orderer(unique_id: str, password: str = \"textmessages\") -> str:\n",
    "    \"\"\"\n",
    "    For consistency, use this function to create a random order of unique ids\n",
    "    so that they appear in the same order every time\n",
    "    \"\"\"\n",
    "    sha = hashlib.sha256()\n",
    "    sha.update(password.encode(\"utf8\"))\n",
    "    sha.update(unique_id.encode(\"utf8\"))\n",
    "    return sha.hexdigest()"
   ]
  },
  {
   "cell_type": "code",
   "execution_count": 3,
   "id": "8e68dcae",
   "metadata": {},
   "outputs": [],
   "source": [
    "# Directory containing unvaccinated people data\n",
    "\n",
    "DATA_DIR = Path.cwd() / \"..\" / \"..\" / \"..\" / \"data\" / \"unvax_data\""
   ]
  },
  {
   "cell_type": "code",
   "execution_count": 4,
   "id": "ddd8e4a6",
   "metadata": {},
   "outputs": [],
   "source": [
    "# Settings\n",
    "first_day_to_send = date(2021, 6, 9)\n",
    "num_messages = 9  # Note that one is a control\n",
    "num_days_to_send = 5\n",
    "# num_in_first_round = 40_000  # This week we're sending _everyone remaining_\n",
    "uniform_probability = 0.33\n",
    "seed = 3924857"
   ]
  },
  {
   "cell_type": "code",
   "execution_count": 5,
   "id": "1a1a4134",
   "metadata": {},
   "outputs": [],
   "source": [
    "# Read data\n",
    "data_file = DATA_DIR / \"input\" / \"unvax_contact_list_20210608_uniq_id.csv\"\n",
    "df = unvaccinated.read_unvaccinated_csv(data_file)"
   ]
  },
  {
   "cell_type": "code",
   "execution_count": 6,
   "id": "21d1fa6a",
   "metadata": {},
   "outputs": [
    {
     "data": {
      "text/plain": [
       "1    151796\n",
       "Name: unique_id, dtype: int64"
      ]
     },
     "execution_count": 6,
     "metadata": {},
     "output_type": "execute_result"
    }
   ],
   "source": [
    "# Make sure unique ids are unique and also get length of dataframe\n",
    "df[\"unique_id\"].value_counts().value_counts()"
   ]
  },
  {
   "cell_type": "code",
   "execution_count": 7,
   "id": "2e15904a",
   "metadata": {},
   "outputs": [
    {
     "data": {
      "text/plain": [
       "English    0.995599\n",
       "Spanish    0.004038\n",
       "Portugu    0.000165\n",
       "Other      0.000152\n",
       "Chinese    0.000020\n",
       "Haitian    0.000020\n",
       "French     0.000007\n",
       "Name: primary_language, dtype: float64"
      ]
     },
     "execution_count": 7,
     "metadata": {},
     "output_type": "execute_result"
    }
   ],
   "source": [
    "# Explore primary language\n",
    "df[\"primary_language\"].value_counts(normalize=True)"
   ]
  },
  {
   "cell_type": "code",
   "execution_count": 8,
   "id": "872e6b59",
   "metadata": {},
   "outputs": [
    {
     "data": {
      "text/plain": [
       "English    0.995962\n",
       "Spanish    0.004038\n",
       "Name: primary_language, dtype: float64"
      ]
     },
     "execution_count": 8,
     "metadata": {},
     "output_type": "execute_result"
    }
   ],
   "source": [
    "# We decided to only send messages in English and Spanish\n",
    "# So change primary language appropriately\n",
    "df[\"primary_language\"] = df[\"primary_language\"].apply(\n",
    "    lambda x: \"Spanish\" if x == \"Spanish\" else \"English\"\n",
    ")\n",
    "\n",
    "df[\"primary_language\"].value_counts(normalize=True)"
   ]
  },
  {
   "cell_type": "code",
   "execution_count": 9,
   "id": "143bc3bb",
   "metadata": {},
   "outputs": [],
   "source": [
    "# Starting in the second week we have Spanish language messages\n",
    "# so do not filter\n",
    "# df = df[df['primary_language'] == 'English']"
   ]
  },
  {
   "cell_type": "markdown",
   "id": "d61b300b",
   "metadata": {},
   "source": [
    "### Determine missing people (i.e., people who were vaccinated)"
   ]
  },
  {
   "cell_type": "code",
   "execution_count": 10,
   "id": "aef8f161",
   "metadata": {},
   "outputs": [],
   "source": [
    "# Read in previous weeks' data\n",
    "old_df = pd.concat(\n",
    "    [\n",
    "        pd.read_csv(DATA_DIR / \"output\" / \"full-2021-05-25-for-week.csv\"),\n",
    "        pd.read_csv(DATA_DIR / \"output\" / \"full-2021-06-02-for-week.csv\"),\n",
    "    ]\n",
    ")\n",
    "\n",
    "# We ended up _not_ sending the Spanish messages. So remove the\n",
    "# preferred language Spanish folks\n",
    "old_df = old_df[(old_df[\"Preferred Language\"] != \"Spanish\")].copy()"
   ]
  },
  {
   "cell_type": "code",
   "execution_count": 11,
   "id": "47705669",
   "metadata": {},
   "outputs": [],
   "source": [
    "# Look at results from the experiment up to this point\n",
    "merged_df = old_df[[\"ContactId\", \"Groups\", \"date_sent\"]].merge(\n",
    "    df[[\"unique_id\"]],\n",
    "    left_on=\"ContactId\",\n",
    "    right_on=\"unique_id\",\n",
    "    how=\"left\",\n",
    "    indicator=\"_merge\",\n",
    ")\n",
    "\n",
    "merged_df[\"got_vaccinated\"] = merged_df[\"_merge\"] == \"left_only\"\n",
    "merged_df[\"treatment_assignment\"] = merged_df[\"Groups\"].str[-1].astype(int)\n",
    "\n",
    "successes = merged_df.groupby(\"Groups\")[\"got_vaccinated\"].sum()\n",
    "totals = merged_df.groupby(\"Groups\").size().rename(\"total\")\n",
    "failures = (totals - successes).rename(\"not_vaccinated\")\n",
    "\n",
    "historic_data = pd.concat([successes, failures, totals], axis=1)\n",
    "historic_data[\"prop_vaccinated\"] = (\n",
    "    historic_data[\"got_vaccinated\"] / historic_data[\"total\"]\n",
    ")"
   ]
  },
  {
   "cell_type": "code",
   "execution_count": 12,
   "id": "e5cd9cd5",
   "metadata": {},
   "outputs": [
    {
     "data": {
      "text/html": [
       "<div>\n",
       "<style scoped>\n",
       "    .dataframe tbody tr th:only-of-type {\n",
       "        vertical-align: middle;\n",
       "    }\n",
       "\n",
       "    .dataframe tbody tr th {\n",
       "        vertical-align: top;\n",
       "    }\n",
       "\n",
       "    .dataframe thead th {\n",
       "        text-align: right;\n",
       "    }\n",
       "</style>\n",
       "<table border=\"1\" class=\"dataframe\">\n",
       "  <thead>\n",
       "    <tr style=\"text-align: right;\">\n",
       "      <th></th>\n",
       "      <th>got_vaccinated</th>\n",
       "      <th>not_vaccinated</th>\n",
       "      <th>total</th>\n",
       "      <th>prop_vaccinated</th>\n",
       "    </tr>\n",
       "    <tr>\n",
       "      <th>Groups</th>\n",
       "      <th></th>\n",
       "      <th></th>\n",
       "      <th></th>\n",
       "      <th></th>\n",
       "    </tr>\n",
       "  </thead>\n",
       "  <tbody>\n",
       "    <tr>\n",
       "      <th>message_0</th>\n",
       "      <td>647</td>\n",
       "      <td>7292</td>\n",
       "      <td>7939</td>\n",
       "      <td>0.081496</td>\n",
       "    </tr>\n",
       "    <tr>\n",
       "      <th>message_1</th>\n",
       "      <td>607</td>\n",
       "      <td>6907</td>\n",
       "      <td>7514</td>\n",
       "      <td>0.080783</td>\n",
       "    </tr>\n",
       "    <tr>\n",
       "      <th>message_2</th>\n",
       "      <td>790</td>\n",
       "      <td>9302</td>\n",
       "      <td>10092</td>\n",
       "      <td>0.078280</td>\n",
       "    </tr>\n",
       "    <tr>\n",
       "      <th>message_3</th>\n",
       "      <td>750</td>\n",
       "      <td>8748</td>\n",
       "      <td>9498</td>\n",
       "      <td>0.078964</td>\n",
       "    </tr>\n",
       "    <tr>\n",
       "      <th>message_4</th>\n",
       "      <td>555</td>\n",
       "      <td>6303</td>\n",
       "      <td>6858</td>\n",
       "      <td>0.080927</td>\n",
       "    </tr>\n",
       "    <tr>\n",
       "      <th>message_5</th>\n",
       "      <td>957</td>\n",
       "      <td>11989</td>\n",
       "      <td>12946</td>\n",
       "      <td>0.073922</td>\n",
       "    </tr>\n",
       "    <tr>\n",
       "      <th>message_6</th>\n",
       "      <td>580</td>\n",
       "      <td>5854</td>\n",
       "      <td>6434</td>\n",
       "      <td>0.090146</td>\n",
       "    </tr>\n",
       "    <tr>\n",
       "      <th>message_7</th>\n",
       "      <td>741</td>\n",
       "      <td>9294</td>\n",
       "      <td>10035</td>\n",
       "      <td>0.073842</td>\n",
       "    </tr>\n",
       "    <tr>\n",
       "      <th>message_8</th>\n",
       "      <td>680</td>\n",
       "      <td>7713</td>\n",
       "      <td>8393</td>\n",
       "      <td>0.081020</td>\n",
       "    </tr>\n",
       "  </tbody>\n",
       "</table>\n",
       "</div>"
      ],
      "text/plain": [
       "           got_vaccinated  not_vaccinated  total  prop_vaccinated\n",
       "Groups                                                           \n",
       "message_0             647            7292   7939         0.081496\n",
       "message_1             607            6907   7514         0.080783\n",
       "message_2             790            9302  10092         0.078280\n",
       "message_3             750            8748   9498         0.078964\n",
       "message_4             555            6303   6858         0.080927\n",
       "message_5             957           11989  12946         0.073922\n",
       "message_6             580            5854   6434         0.090146\n",
       "message_7             741            9294  10035         0.073842\n",
       "message_8             680            7713   8393         0.081020"
      ]
     },
     "execution_count": 12,
     "metadata": {},
     "output_type": "execute_result"
    }
   ],
   "source": [
    "historic_data"
   ]
  },
  {
   "cell_type": "code",
   "execution_count": 13,
   "id": "20684b26",
   "metadata": {},
   "outputs": [
    {
     "data": {
      "text/plain": [
       "(21.096583120804414,\n",
       " 0.006895242723399697,\n",
       " 8,\n",
       " array([[  628.17590234,  7310.82409766],\n",
       "        [  594.54764205,  6919.45235795],\n",
       "        [  798.53271274,  9293.46728726],\n",
       "        [  751.53227365,  8746.46772635],\n",
       "        [  542.64143321,  6315.35856679],\n",
       "        [ 1024.3563713 , 11921.6436287 ],\n",
       "        [  509.09229823,  5924.90770177],\n",
       "        [  794.0225696 ,  9240.9774304 ],\n",
       "        [  664.09879687,  7728.90120313]]))"
      ]
     },
     "execution_count": 13,
     "metadata": {},
     "output_type": "execute_result"
    }
   ],
   "source": [
    "# Any actual differences?\n",
    "st.chi2_contingency(historic_data[[\"got_vaccinated\", \"not_vaccinated\"]].values)"
   ]
  },
  {
   "cell_type": "code",
   "execution_count": 14,
   "id": "cac37dd8",
   "metadata": {},
   "outputs": [
    {
     "name": "stdout",
     "output_type": "stream",
     "text": [
      "Pool of people for this week: 78394\n"
     ]
    }
   ],
   "source": [
    "# Remove anyone who has already received a message or was explicitly\n",
    "# placed in the control group\n",
    "tmp_df = df.merge(\n",
    "    old_df[[\"ContactId\"]],\n",
    "    left_on=\"unique_id\",\n",
    "    right_on=\"ContactId\",\n",
    "    how=\"left\",\n",
    "    indicator=\"_merge\",\n",
    ")\n",
    "\n",
    "df = tmp_df[tmp_df[\"_merge\"] == \"left_only\"].drop(columns=[\"_merge\"])\n",
    "print(f\"Pool of people for this week: {len(df)}\")"
   ]
  },
  {
   "cell_type": "code",
   "execution_count": 15,
   "id": "ce4aa46b",
   "metadata": {},
   "outputs": [],
   "source": [
    "# Get assignments for the coming week\n",
    "num_in_first_round = len(df)  # We're sending _all_ the remaining folks\n",
    "\n",
    "assignments, is_uniform = model.get_assignments(\n",
    "    num_messages,\n",
    "    merged_df[\"treatment_assignment\"].values,\n",
    "    merged_df[\"got_vaccinated\"].values,\n",
    "    num_in_first_round,\n",
    "    uniform_probability,\n",
    "    seed=seed,\n",
    ")"
   ]
  },
  {
   "cell_type": "markdown",
   "id": "7a929a57",
   "metadata": {},
   "source": [
    "### Do randomization"
   ]
  },
  {
   "cell_type": "code",
   "execution_count": 16,
   "id": "83eaf9d2",
   "metadata": {},
   "outputs": [],
   "source": [
    "# We decided to _only_ do one stratum for now\n",
    "df[\"stratum\"] = 0"
   ]
  },
  {
   "cell_type": "code",
   "execution_count": 17,
   "id": "1eadb442",
   "metadata": {},
   "outputs": [],
   "source": [
    "# Shuffle for randomization\n",
    "df[\"random_order\"] = df[\"unique_id\"].apply(random_orderer)\n",
    "df = df.sort_values(\"random_order\")\n",
    "\n",
    "# This is for the first round assignments\n",
    "df = df.iloc[:num_in_first_round].reset_index(drop=True)\n",
    "\n",
    "# Assign the message per stratum\n",
    "df[\"message_num\"] = assignments\n",
    "df[\"is_chosen_from_uniform\"] = is_uniform == 1\n",
    "df[\"day_to_send\"] = df.groupby([\"stratum\", \"message_num\"]).cumcount() % num_days_to_send"
   ]
  },
  {
   "cell_type": "code",
   "execution_count": 18,
   "id": "5e7d883b",
   "metadata": {},
   "outputs": [],
   "source": [
    "day_to_data = {\n",
    "    day: [\n",
    "        codered.CoderedContact(\n",
    "            # Add an x to force Excel _not_ to convert numbers\n",
    "            contact_id=row[\"unique_id\"],\n",
    "            first_name=\"N/A\",\n",
    "            last_name=\"N/A\",\n",
    "            groups=f\"message_{row['message_num']}\",\n",
    "            # This is to be filled in by Zayid\n",
    "            text_number=-1,\n",
    "            tags=row[\"primary_language\"],\n",
    "            preferred_language=row[\"primary_language\"],\n",
    "        )\n",
    "        for _, row in mini_df.iterrows()\n",
    "    ]\n",
    "    for day, mini_df in df.groupby(\"day_to_send\")\n",
    "}"
   ]
  },
  {
   "cell_type": "code",
   "execution_count": 19,
   "id": "3afb8140",
   "metadata": {},
   "outputs": [],
   "source": [
    "# I can never remember the calendar constants....\n",
    "SUNDAY = date(2021, 5, 30).weekday()\n",
    "SATURDAY = date(2021, 5, 29).weekday()"
   ]
  },
  {
   "cell_type": "code",
   "execution_count": 20,
   "id": "70af5330",
   "metadata": {},
   "outputs": [],
   "source": [
    "files: List[Path] = []\n",
    "full_dfs: List[pd.DataFrame] = []\n",
    "\n",
    "weekend_offset = 0\n",
    "for day, data in day_to_data.items():\n",
    "    day_to_send = first_day_to_send + timedelta(days=day + weekend_offset)\n",
    "    while day_to_send.weekday() in [SATURDAY, SUNDAY]:\n",
    "        weekend_offset += 1\n",
    "        day_to_send = first_day_to_send + timedelta(days=day + weekend_offset)\n",
    "\n",
    "    filename = (\n",
    "        DATA_DIR\n",
    "        / \"output\"\n",
    "        / f\"{day_to_send.strftime('%Y-%m-%d')}_text_message_uniq_id.xlsx\"\n",
    "    )\n",
    "\n",
    "    files.append(filename)\n",
    "    codered.make_excel_file(filename, data, drop_message_0=True)\n",
    "\n",
    "    this_df = codered.make_df_from_data(data)\n",
    "    this_df[\"date_sent\"] = day_to_send\n",
    "\n",
    "    tmp_len = len(this_df)\n",
    "    this_df = this_df.merge(\n",
    "        df[[\"unique_id\", \"is_chosen_from_uniform\"]],\n",
    "        left_on=\"ContactId\",\n",
    "        right_on=\"unique_id\",\n",
    "    ).drop(columns=\"unique_id\")\n",
    "    assert len(this_df) == tmp_len\n",
    "\n",
    "    full_dfs.append(this_df)"
   ]
  },
  {
   "cell_type": "markdown",
   "id": "85148cea",
   "metadata": {},
   "source": [
    "### Make sure outputs look reasonable"
   ]
  },
  {
   "cell_type": "code",
   "execution_count": 21,
   "id": "39cdf08e",
   "metadata": {},
   "outputs": [],
   "source": [
    "df = pd.read_excel(files[0])"
   ]
  },
  {
   "cell_type": "code",
   "execution_count": 22,
   "id": "ace509ac",
   "metadata": {},
   "outputs": [
    {
     "data": {
      "text/plain": [
       "message_1      745\n",
       "message_2      587\n",
       "message_3      616\n",
       "message_4      813\n",
       "message_5      575\n",
       "message_6    10156\n",
       "message_7      582\n",
       "message_8      761\n",
       "Name: Groups, dtype: int64"
      ]
     },
     "execution_count": 22,
     "metadata": {},
     "output_type": "execute_result"
    }
   ],
   "source": [
    "# Make sure that there are ~1111 = 40k recipients / 4 days / 9 messages\n",
    "df[\"Groups\"].value_counts().sort_index()"
   ]
  },
  {
   "cell_type": "code",
   "execution_count": 23,
   "id": "5ceabf63",
   "metadata": {},
   "outputs": [
    {
     "data": {
      "text/plain": [
       "1    74160\n",
       "Name: ContactId, dtype: int64"
      ]
     },
     "execution_count": 23,
     "metadata": {},
     "output_type": "execute_result"
    }
   ],
   "source": [
    "# Make sure all of the ContactIds are unique\n",
    "dfs = [pd.read_excel(filename) for filename in files]\n",
    "df = pd.concat(dfs)\n",
    "df[\"ContactId\"].value_counts().value_counts()"
   ]
  },
  {
   "cell_type": "code",
   "execution_count": 24,
   "id": "78ed35f0",
   "metadata": {},
   "outputs": [],
   "source": [
    "# Make sure all the missing ContactIds are message_0\n",
    "full_df = pd.concat(full_dfs)\n",
    "joined = full_df[[\"ContactId\", \"Groups\"]].merge(\n",
    "    df[[\"ContactId\", \"Groups\"]], on=[\"ContactId\"], how=\"left\"\n",
    ")\n",
    "joined[\"Groups_y\"] = joined[\"Groups_y\"].fillna(\"message_0\")\n",
    "assert (joined[\"Groups_x\"] == joined[\"Groups_y\"]).all()"
   ]
  },
  {
   "cell_type": "code",
   "execution_count": 25,
   "id": "7b3f8e5e",
   "metadata": {},
   "outputs": [],
   "source": [
    "# Write out the full_df for record keeping\n",
    "full_df.to_csv(\n",
    "    DATA_DIR / \"output\" / f'full-{first_day_to_send.strftime(\"%Y-%m-%d\")}-for-week.csv',\n",
    "    index=False,\n",
    ")"
   ]
  },
  {
   "cell_type": "code",
   "execution_count": 26,
   "id": "473b56e4",
   "metadata": {},
   "outputs": [
    {
     "data": {
      "text/plain": [
       "English    77797\n",
       "Spanish      597\n",
       "Name: Preferred Language, dtype: int64"
      ]
     },
     "execution_count": 26,
     "metadata": {},
     "output_type": "execute_result"
    }
   ],
   "source": [
    "full_df[\"Preferred Language\"].value_counts()"
   ]
  },
  {
   "cell_type": "code",
   "execution_count": null,
   "id": "bf934ada",
   "metadata": {},
   "outputs": [],
   "source": []
  },
  {
   "cell_type": "code",
   "execution_count": null,
   "id": "25c0fc61",
   "metadata": {},
   "outputs": [],
   "source": []
  },
  {
   "cell_type": "code",
   "execution_count": null,
   "id": "83db8c5b",
   "metadata": {},
   "outputs": [],
   "source": []
  },
  {
   "cell_type": "code",
   "execution_count": 27,
   "id": "eab1f6c3",
   "metadata": {},
   "outputs": [],
   "source": [
    "pos_df = merged_df.pivot_table(\n",
    "    index=\"Groups\",\n",
    "    columns=pd.to_datetime(merged_df[\"date_sent\"]).dt.dayofweek,\n",
    "    values=\"got_vaccinated\",\n",
    "    aggfunc=\"sum\",\n",
    ")\n",
    "\n",
    "mean_df = merged_df.pivot_table(\n",
    "    index=\"Groups\",\n",
    "    columns=pd.to_datetime(merged_df[\"date_sent\"]).dt.dayofweek,\n",
    "    values=\"got_vaccinated\",\n",
    "    aggfunc=\"mean\",\n",
    ")\n",
    "\n",
    "tot_df = (pos_df / mean_df).astype(int)\n",
    "\n",
    "tot_df[\"total\"] = tot_df.sum(axis=1)\n",
    "tot_df = tot_df.append(tot_df.sum(axis=0).rename(\"total\"))\n",
    "\n",
    "pos_df[\"total\"] = pos_df.sum(axis=1)\n",
    "pos_df = pos_df.append(pos_df.sum(axis=0).rename(\"total\"))"
   ]
  },
  {
   "cell_type": "code",
   "execution_count": 28,
   "id": "a2a44ab6",
   "metadata": {},
   "outputs": [
    {
     "data": {
      "text/html": [
       "<div>\n",
       "<style scoped>\n",
       "    .dataframe tbody tr th:only-of-type {\n",
       "        vertical-align: middle;\n",
       "    }\n",
       "\n",
       "    .dataframe tbody tr th {\n",
       "        vertical-align: top;\n",
       "    }\n",
       "\n",
       "    .dataframe thead th {\n",
       "        text-align: right;\n",
       "    }\n",
       "</style>\n",
       "<table border=\"1\" class=\"dataframe\">\n",
       "  <thead>\n",
       "    <tr style=\"text-align: right;\">\n",
       "      <th>date_sent</th>\n",
       "      <th>0</th>\n",
       "      <th>1</th>\n",
       "      <th>2</th>\n",
       "      <th>3</th>\n",
       "      <th>4</th>\n",
       "      <th>total</th>\n",
       "    </tr>\n",
       "    <tr>\n",
       "      <th>Groups</th>\n",
       "      <th></th>\n",
       "      <th></th>\n",
       "      <th></th>\n",
       "      <th></th>\n",
       "      <th></th>\n",
       "      <th></th>\n",
       "    </tr>\n",
       "  </thead>\n",
       "  <tbody>\n",
       "    <tr>\n",
       "      <th>message_0</th>\n",
       "      <td>698</td>\n",
       "      <td>1813</td>\n",
       "      <td>1810</td>\n",
       "      <td>1808</td>\n",
       "      <td>1810</td>\n",
       "      <td>7939</td>\n",
       "    </tr>\n",
       "    <tr>\n",
       "      <th>message_1</th>\n",
       "      <td>612</td>\n",
       "      <td>1726</td>\n",
       "      <td>1727</td>\n",
       "      <td>1722</td>\n",
       "      <td>1727</td>\n",
       "      <td>7514</td>\n",
       "    </tr>\n",
       "    <tr>\n",
       "      <th>message_2</th>\n",
       "      <td>1124</td>\n",
       "      <td>2241</td>\n",
       "      <td>2242</td>\n",
       "      <td>2242</td>\n",
       "      <td>2243</td>\n",
       "      <td>10092</td>\n",
       "    </tr>\n",
       "    <tr>\n",
       "      <th>message_3</th>\n",
       "      <td>1011</td>\n",
       "      <td>2123</td>\n",
       "      <td>2121</td>\n",
       "      <td>2121</td>\n",
       "      <td>2122</td>\n",
       "      <td>9498</td>\n",
       "    </tr>\n",
       "    <tr>\n",
       "      <th>message_4</th>\n",
       "      <td>482</td>\n",
       "      <td>1592</td>\n",
       "      <td>1596</td>\n",
       "      <td>1592</td>\n",
       "      <td>1596</td>\n",
       "      <td>6858</td>\n",
       "    </tr>\n",
       "    <tr>\n",
       "      <th>message_5</th>\n",
       "      <td>1704</td>\n",
       "      <td>2810</td>\n",
       "      <td>2809</td>\n",
       "      <td>2811</td>\n",
       "      <td>2812</td>\n",
       "      <td>12946</td>\n",
       "    </tr>\n",
       "    <tr>\n",
       "      <th>message_6</th>\n",
       "      <td>398</td>\n",
       "      <td>1508</td>\n",
       "      <td>1509</td>\n",
       "      <td>1510</td>\n",
       "      <td>1508</td>\n",
       "      <td>6433</td>\n",
       "    </tr>\n",
       "    <tr>\n",
       "      <th>message_7</th>\n",
       "      <td>1121</td>\n",
       "      <td>2224</td>\n",
       "      <td>2228</td>\n",
       "      <td>2233</td>\n",
       "      <td>2229</td>\n",
       "      <td>10035</td>\n",
       "    </tr>\n",
       "    <tr>\n",
       "      <th>message_8</th>\n",
       "      <td>792</td>\n",
       "      <td>1902</td>\n",
       "      <td>1898</td>\n",
       "      <td>1901</td>\n",
       "      <td>1900</td>\n",
       "      <td>8393</td>\n",
       "    </tr>\n",
       "    <tr>\n",
       "      <th>total</th>\n",
       "      <td>7942</td>\n",
       "      <td>17939</td>\n",
       "      <td>17940</td>\n",
       "      <td>17940</td>\n",
       "      <td>17947</td>\n",
       "      <td>79708</td>\n",
       "    </tr>\n",
       "  </tbody>\n",
       "</table>\n",
       "</div>"
      ],
      "text/plain": [
       "date_sent     0      1      2      3      4  total\n",
       "Groups                                            \n",
       "message_0   698   1813   1810   1808   1810   7939\n",
       "message_1   612   1726   1727   1722   1727   7514\n",
       "message_2  1124   2241   2242   2242   2243  10092\n",
       "message_3  1011   2123   2121   2121   2122   9498\n",
       "message_4   482   1592   1596   1592   1596   6858\n",
       "message_5  1704   2810   2809   2811   2812  12946\n",
       "message_6   398   1508   1509   1510   1508   6433\n",
       "message_7  1121   2224   2228   2233   2229  10035\n",
       "message_8   792   1902   1898   1901   1900   8393\n",
       "total      7942  17939  17940  17940  17947  79708"
      ]
     },
     "execution_count": 28,
     "metadata": {},
     "output_type": "execute_result"
    }
   ],
   "source": [
    "tot_df"
   ]
  },
  {
   "cell_type": "code",
   "execution_count": 29,
   "id": "ad47cf0f",
   "metadata": {},
   "outputs": [
    {
     "data": {
      "text/html": [
       "<div>\n",
       "<style scoped>\n",
       "    .dataframe tbody tr th:only-of-type {\n",
       "        vertical-align: middle;\n",
       "    }\n",
       "\n",
       "    .dataframe tbody tr th {\n",
       "        vertical-align: top;\n",
       "    }\n",
       "\n",
       "    .dataframe thead th {\n",
       "        text-align: right;\n",
       "    }\n",
       "</style>\n",
       "<table border=\"1\" class=\"dataframe\">\n",
       "  <thead>\n",
       "    <tr style=\"text-align: right;\">\n",
       "      <th>date_sent</th>\n",
       "      <th>0</th>\n",
       "      <th>1</th>\n",
       "      <th>2</th>\n",
       "      <th>3</th>\n",
       "      <th>4</th>\n",
       "      <th>total</th>\n",
       "    </tr>\n",
       "    <tr>\n",
       "      <th>Groups</th>\n",
       "      <th></th>\n",
       "      <th></th>\n",
       "      <th></th>\n",
       "      <th></th>\n",
       "      <th></th>\n",
       "      <th></th>\n",
       "    </tr>\n",
       "  </thead>\n",
       "  <tbody>\n",
       "    <tr>\n",
       "      <th>message_0</th>\n",
       "      <td>0.0501</td>\n",
       "      <td>0.0899</td>\n",
       "      <td>0.0845</td>\n",
       "      <td>0.0785</td>\n",
       "      <td>0.0851</td>\n",
       "      <td>0.0815</td>\n",
       "    </tr>\n",
       "    <tr>\n",
       "      <th>message_1</th>\n",
       "      <td>0.0605</td>\n",
       "      <td>0.0753</td>\n",
       "      <td>0.0921</td>\n",
       "      <td>0.0842</td>\n",
       "      <td>0.0787</td>\n",
       "      <td>0.0808</td>\n",
       "    </tr>\n",
       "    <tr>\n",
       "      <th>message_2</th>\n",
       "      <td>0.0641</td>\n",
       "      <td>0.0812</td>\n",
       "      <td>0.0812</td>\n",
       "      <td>0.0807</td>\n",
       "      <td>0.0771</td>\n",
       "      <td>0.0783</td>\n",
       "    </tr>\n",
       "    <tr>\n",
       "      <th>message_3</th>\n",
       "      <td>0.0544</td>\n",
       "      <td>0.0810</td>\n",
       "      <td>0.0839</td>\n",
       "      <td>0.0778</td>\n",
       "      <td>0.0848</td>\n",
       "      <td>0.0790</td>\n",
       "    </tr>\n",
       "    <tr>\n",
       "      <th>message_4</th>\n",
       "      <td>0.0394</td>\n",
       "      <td>0.0798</td>\n",
       "      <td>0.0733</td>\n",
       "      <td>0.0911</td>\n",
       "      <td>0.0921</td>\n",
       "      <td>0.0809</td>\n",
       "    </tr>\n",
       "    <tr>\n",
       "      <th>message_5</th>\n",
       "      <td>0.0493</td>\n",
       "      <td>0.0765</td>\n",
       "      <td>0.0751</td>\n",
       "      <td>0.0765</td>\n",
       "      <td>0.0825</td>\n",
       "      <td>0.0739</td>\n",
       "    </tr>\n",
       "    <tr>\n",
       "      <th>message_6</th>\n",
       "      <td>0.0603</td>\n",
       "      <td>0.0875</td>\n",
       "      <td>0.0968</td>\n",
       "      <td>0.1053</td>\n",
       "      <td>0.0789</td>\n",
       "      <td>0.0902</td>\n",
       "    </tr>\n",
       "    <tr>\n",
       "      <th>message_7</th>\n",
       "      <td>0.0580</td>\n",
       "      <td>0.0710</td>\n",
       "      <td>0.0745</td>\n",
       "      <td>0.0820</td>\n",
       "      <td>0.0758</td>\n",
       "      <td>0.0738</td>\n",
       "    </tr>\n",
       "    <tr>\n",
       "      <th>message_8</th>\n",
       "      <td>0.0619</td>\n",
       "      <td>0.0925</td>\n",
       "      <td>0.0843</td>\n",
       "      <td>0.0752</td>\n",
       "      <td>0.0800</td>\n",
       "      <td>0.0810</td>\n",
       "    </tr>\n",
       "    <tr>\n",
       "      <th>total</th>\n",
       "      <td>0.0554</td>\n",
       "      <td>0.0811</td>\n",
       "      <td>0.0821</td>\n",
       "      <td>0.0824</td>\n",
       "      <td>0.0815</td>\n",
       "      <td>0.0791</td>\n",
       "    </tr>\n",
       "  </tbody>\n",
       "</table>\n",
       "</div>"
      ],
      "text/plain": [
       "date_sent       0       1       2       3       4   total\n",
       "Groups                                                   \n",
       "message_0  0.0501  0.0899  0.0845  0.0785  0.0851  0.0815\n",
       "message_1  0.0605  0.0753  0.0921  0.0842  0.0787  0.0808\n",
       "message_2  0.0641  0.0812  0.0812  0.0807  0.0771  0.0783\n",
       "message_3  0.0544  0.0810  0.0839  0.0778  0.0848  0.0790\n",
       "message_4  0.0394  0.0798  0.0733  0.0911  0.0921  0.0809\n",
       "message_5  0.0493  0.0765  0.0751  0.0765  0.0825  0.0739\n",
       "message_6  0.0603  0.0875  0.0968  0.1053  0.0789  0.0902\n",
       "message_7  0.0580  0.0710  0.0745  0.0820  0.0758  0.0738\n",
       "message_8  0.0619  0.0925  0.0843  0.0752  0.0800  0.0810\n",
       "total      0.0554  0.0811  0.0821  0.0824  0.0815  0.0791"
      ]
     },
     "execution_count": 29,
     "metadata": {},
     "output_type": "execute_result"
    }
   ],
   "source": [
    "(pos_df / tot_df).applymap(lambda x: f\"{x:0.4f}\")"
   ]
  },
  {
   "cell_type": "code",
   "execution_count": null,
   "id": "25707082",
   "metadata": {},
   "outputs": [],
   "source": []
  }
 ],
 "metadata": {
  "kernelspec": {
   "display_name": "Python 3",
   "language": "python",
   "name": "python3"
  },
  "language_info": {
   "codemirror_mode": {
    "name": "ipython",
    "version": 3
   },
   "file_extension": ".py",
   "mimetype": "text/x-python",
   "name": "python",
   "nbconvert_exporter": "python",
   "pygments_lexer": "ipython3",
   "version": "3.8.6"
  }
 },
 "nbformat": 4,
 "nbformat_minor": 5
}
