{
 "cells": [
  {
   "cell_type": "code",
   "execution_count": 1,
   "id": "5a4d4270",
   "metadata": {},
   "outputs": [],
   "source": [
    "import hashlib\n",
    "from datetime import date, timedelta\n",
    "from pathlib import Path\n",
    "from typing import List\n",
    "\n",
    "import numpy as np\n",
    "import pandas as pd\n",
    "\n",
    "from thompson import codered, unvaccinated"
   ]
  },
  {
   "cell_type": "code",
   "execution_count": 2,
   "id": "91ba9065",
   "metadata": {},
   "outputs": [],
   "source": [
    "def random_orderer(unique_id: str, password: str = \"textmessages\") -> str:\n",
    "    \"\"\"\n",
    "    For consistency, use this function to create a random order of unique ids\n",
    "    so that they appear in the same order every time\n",
    "    \"\"\"\n",
    "    sha = hashlib.sha256()\n",
    "    sha.update(password.encode(\"utf8\"))\n",
    "    sha.update(unique_id.encode(\"utf8\"))\n",
    "    return sha.hexdigest()"
   ]
  },
  {
   "cell_type": "code",
   "execution_count": 3,
   "id": "8e68dcae",
   "metadata": {},
   "outputs": [],
   "source": [
    "# Directory containing unvaccinated people data\n",
    "\n",
    "DATA_DIR = Path.cwd() / \"..\" / \"..\" / \"..\" / \"data\" / \"unvax_data\""
   ]
  },
  {
   "cell_type": "code",
   "execution_count": 4,
   "id": "ddd8e4a6",
   "metadata": {},
   "outputs": [],
   "source": [
    "# Settings\n",
    "first_day_to_send = date(2021, 5, 25)\n",
    "num_messages = 9  # Note that one is a control\n",
    "num_days_to_send = 4\n",
    "num_in_first_round = 40_000"
   ]
  },
  {
   "cell_type": "code",
   "execution_count": 5,
   "id": "1a1a4134",
   "metadata": {},
   "outputs": [],
   "source": [
    "# Read data\n",
    "data_file = DATA_DIR / \"input\" / \"unvax_contact_list_20210521_uniq_id.csv\"\n",
    "df = unvaccinated.read_unvaccinated_csv(data_file)"
   ]
  },
  {
   "cell_type": "code",
   "execution_count": 6,
   "id": "21d1fa6a",
   "metadata": {},
   "outputs": [
    {
     "data": {
      "text/plain": [
       "1    162504\n",
       "Name: unique_id, dtype: int64"
      ]
     },
     "execution_count": 6,
     "metadata": {},
     "output_type": "execute_result"
    }
   ],
   "source": [
    "# Make sure unique ids are unique and also get length of dataframe\n",
    "df[\"unique_id\"].value_counts().value_counts()"
   ]
  },
  {
   "cell_type": "code",
   "execution_count": 7,
   "id": "2e15904a",
   "metadata": {},
   "outputs": [
    {
     "data": {
      "text/plain": [
       "English    0.995299\n",
       "Spanish    0.004277\n",
       "Portugu    0.000234\n",
       "Other      0.000148\n",
       "Haitian    0.000018\n",
       "Chinese    0.000018\n",
       "French     0.000006\n",
       "Name: primary_language, dtype: float64"
      ]
     },
     "execution_count": 7,
     "metadata": {},
     "output_type": "execute_result"
    }
   ],
   "source": [
    "# Explore primary language\n",
    "df[\"primary_language\"].value_counts(normalize=True)"
   ]
  },
  {
   "cell_type": "code",
   "execution_count": 8,
   "id": "872e6b59",
   "metadata": {},
   "outputs": [
    {
     "data": {
      "text/plain": [
       "English    0.995723\n",
       "Spanish    0.004277\n",
       "Name: primary_language, dtype: float64"
      ]
     },
     "execution_count": 8,
     "metadata": {},
     "output_type": "execute_result"
    }
   ],
   "source": [
    "# We decided to only send messages in English and Spanish\n",
    "# So change primary language appropriately\n",
    "df[\"primary_language\"] = df[\"primary_language\"].apply(\n",
    "    lambda x: \"Spanish\" if x == \"Spanish\" else \"English\"\n",
    ")\n",
    "\n",
    "df[\"primary_language\"].value_counts(normalize=True)"
   ]
  },
  {
   "cell_type": "code",
   "execution_count": 9,
   "id": "143bc3bb",
   "metadata": {},
   "outputs": [],
   "source": [
    "# For now we do _not_ have Spanish language media, so we will\n",
    "# drop Spanish language preference and wait for them next week\n",
    "df = df[df[\"primary_language\"] == \"English\"]"
   ]
  },
  {
   "cell_type": "markdown",
   "id": "7a929a57",
   "metadata": {},
   "source": [
    "### Do randomization"
   ]
  },
  {
   "cell_type": "code",
   "execution_count": 10,
   "id": "83eaf9d2",
   "metadata": {},
   "outputs": [],
   "source": [
    "# We decided to _only_ do one stratum for now\n",
    "df[\"stratum\"] = 0"
   ]
  },
  {
   "cell_type": "code",
   "execution_count": 11,
   "id": "1eadb442",
   "metadata": {},
   "outputs": [],
   "source": [
    "# Shuffle for randomization\n",
    "df[\"random_order\"] = df[\"unique_id\"].apply(random_orderer)\n",
    "df = df.sort_values(\"random_order\")\n",
    "\n",
    "# This is for the first round assignments\n",
    "df = df.iloc[:num_in_first_round].reset_index(drop=True)\n",
    "\n",
    "# Assign the message per stratum\n",
    "df[\"message_num\"] = df.groupby(\"stratum\").cumcount() % num_messages\n",
    "df[\"day_to_send\"] = df.groupby([\"stratum\", \"message_num\"]).cumcount() % num_days_to_send"
   ]
  },
  {
   "cell_type": "code",
   "execution_count": 12,
   "id": "5e7d883b",
   "metadata": {},
   "outputs": [],
   "source": [
    "day_to_data = {\n",
    "    day: [\n",
    "        codered.CoderedContact(\n",
    "            # Add an x to force Excel _not_ to convert numbers\n",
    "            contact_id=row[\"unique_id\"],\n",
    "            first_name=\"N/A\",\n",
    "            last_name=\"N/A\",\n",
    "            groups=f\"message_{row['message_num']}\",\n",
    "            # This is to be filled in by Zayid\n",
    "            text_number=-1,\n",
    "            tags=row[\"primary_language\"],\n",
    "            preferred_language=row[\"primary_language\"],\n",
    "        )\n",
    "        for _, row in mini_df.iterrows()\n",
    "    ]\n",
    "    for day, mini_df in df.groupby(\"day_to_send\")\n",
    "}"
   ]
  },
  {
   "cell_type": "code",
   "execution_count": 13,
   "id": "70af5330",
   "metadata": {},
   "outputs": [],
   "source": [
    "files: List[Path] = []\n",
    "full_dfs: List[pd.DataFrame] = []\n",
    "\n",
    "for day, data in day_to_data.items():\n",
    "    day_to_send = first_day_to_send + timedelta(days=day)\n",
    "    filename = (\n",
    "        DATA_DIR\n",
    "        / \"output\"\n",
    "        / f\"{day_to_send.strftime('%Y-%m-%d')}_text_message_uniq_id.xlsx\"\n",
    "    )\n",
    "\n",
    "    files.append(filename)\n",
    "    codered.make_excel_file(filename, data, drop_message_0=True)\n",
    "\n",
    "    this_df = codered.make_df_from_data(data)\n",
    "    this_df[\"date_sent\"] = day_to_send\n",
    "    full_dfs.append(this_df)"
   ]
  },
  {
   "cell_type": "markdown",
   "id": "85148cea",
   "metadata": {},
   "source": [
    "### Make sure outputs look reasonable"
   ]
  },
  {
   "cell_type": "code",
   "execution_count": 14,
   "id": "39cdf08e",
   "metadata": {},
   "outputs": [],
   "source": [
    "df = pd.read_excel(files[0])"
   ]
  },
  {
   "cell_type": "code",
   "execution_count": 15,
   "id": "ace509ac",
   "metadata": {},
   "outputs": [
    {
     "data": {
      "text/plain": [
       "message_1    1112\n",
       "message_2    1112\n",
       "message_3    1112\n",
       "message_4    1111\n",
       "message_5    1111\n",
       "message_6    1111\n",
       "message_7    1111\n",
       "message_8    1111\n",
       "Name: Groups, dtype: int64"
      ]
     },
     "execution_count": 15,
     "metadata": {},
     "output_type": "execute_result"
    }
   ],
   "source": [
    "# Make sure that there are ~1111 = 40k recipients / 4 days / 9 messages\n",
    "df[\"Groups\"].value_counts().sort_index()"
   ]
  },
  {
   "cell_type": "code",
   "execution_count": 16,
   "id": "5ceabf63",
   "metadata": {},
   "outputs": [
    {
     "data": {
      "text/plain": [
       "1    35555\n",
       "Name: ContactId, dtype: int64"
      ]
     },
     "execution_count": 16,
     "metadata": {},
     "output_type": "execute_result"
    }
   ],
   "source": [
    "# Make sure all of the ContactIds are unique\n",
    "dfs = [pd.read_excel(filename) for filename in files]\n",
    "df = pd.concat(dfs)\n",
    "df[\"ContactId\"].value_counts().value_counts()"
   ]
  },
  {
   "cell_type": "code",
   "execution_count": 17,
   "id": "78ed35f0",
   "metadata": {},
   "outputs": [],
   "source": [
    "# Make sure all the missing ContactIds are message_0\n",
    "full_df = pd.concat(full_dfs)\n",
    "joined = full_df[[\"ContactId\", \"Groups\"]].merge(\n",
    "    df[[\"ContactId\", \"Groups\"]], on=[\"ContactId\"], how=\"left\"\n",
    ")\n",
    "joined[\"Groups_y\"] = joined[\"Groups_y\"].fillna(\"message_0\")\n",
    "full_df[\"is_chosen_from_uniform\"] = True\n",
    "assert (joined[\"Groups_x\"] == joined[\"Groups_y\"]).all()"
   ]
  },
  {
   "cell_type": "code",
   "execution_count": 18,
   "id": "7b3f8e5e",
   "metadata": {},
   "outputs": [],
   "source": [
    "# Write out the full_df for record keeping\n",
    "full_df.to_csv(DATA_DIR / \"output\" / \"full-2021-05-25-for-week.csv\", index=False)"
   ]
  },
  {
   "cell_type": "code",
   "execution_count": 19,
   "id": "473b56e4",
   "metadata": {},
   "outputs": [
    {
     "data": {
      "text/plain": [
       "English    40000\n",
       "Name: Preferred Language, dtype: int64"
      ]
     },
     "execution_count": 19,
     "metadata": {},
     "output_type": "execute_result"
    }
   ],
   "source": [
    "full_df[\"Preferred Language\"].value_counts()"
   ]
  }
 ],
 "metadata": {
  "kernelspec": {
   "display_name": "Python 3",
   "language": "python",
   "name": "python3"
  },
  "language_info": {
   "codemirror_mode": {
    "name": "ipython",
    "version": 3
   },
   "file_extension": ".py",
   "mimetype": "text/x-python",
   "name": "python",
   "nbconvert_exporter": "python",
   "pygments_lexer": "ipython3",
   "version": "3.8.6"
  }
 },
 "nbformat": 4,
 "nbformat_minor": 5
}
